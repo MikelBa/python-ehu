{
  "nbformat": 4,
  "nbformat_minor": 0,
  "metadata": {
    "kernelspec": {
      "display_name": "Python 3",
      "language": "python",
      "name": "python3"
    },
    "language_info": {
      "codemirror_mode": {
        "name": "ipython",
        "version": 3
      },
      "file_extension": ".py",
      "mimetype": "text/x-python",
      "name": "python",
      "nbconvert_exporter": "python",
      "pygments_lexer": "ipython3",
      "version": "3.8.5"
    },
    "colab": {
      "name": "clase01.ipynb",
      "provenance": []
    }
  },
  "cells": [
    {
      "cell_type": "markdown",
      "metadata": {
        "id": "oQMhu8G-Kgym"
      },
      "source": [
        "# Sesión 1 - Introducción a Python"
      ]
    },
    {
      "cell_type": "markdown",
      "metadata": {
        "id": "QOZXI2pqKgyv"
      },
      "source": [
        "## 1- Python en modo interprete (calculadora)\n",
        "\n",
        " - En jupyter notebooks escribimos código en cada **celda**.\n",
        " - Hay celdas de tipo **código** y tipo **texto**.\n",
        " - Lo ejecutamos con **ctrl + Intro**"
      ]
    },
    {
      "cell_type": "code",
      "metadata": {
        "id": "BZmwIBvPKgyx",
        "outputId": "26c8e595-425f-436d-c125-bf5934b21910"
      },
      "source": [
        "2+3"
      ],
      "execution_count": null,
      "outputs": [
        {
          "output_type": "execute_result",
          "data": {
            "text/plain": [
              "5"
            ]
          },
          "metadata": {
            "tags": []
          },
          "execution_count": 1
        }
      ]
    },
    {
      "cell_type": "code",
      "metadata": {
        "id": "R0r72vWEKgy1",
        "outputId": "a8ad5cd2-1c17-4692-aec8-c154c2750cb9"
      },
      "source": [
        "2**3"
      ],
      "execution_count": null,
      "outputs": [
        {
          "output_type": "execute_result",
          "data": {
            "text/plain": [
              "8"
            ]
          },
          "metadata": {
            "tags": []
          },
          "execution_count": 2
        }
      ]
    },
    {
      "cell_type": "code",
      "metadata": {
        "id": "LKgcg5z-Kgy2",
        "outputId": "7a7afda2-57b1-49ba-f555-1503f4af689b"
      },
      "source": [
        "( (1+8)**(1/2) )*0.25"
      ],
      "execution_count": null,
      "outputs": [
        {
          "output_type": "execute_result",
          "data": {
            "text/plain": [
              "0.75"
            ]
          },
          "metadata": {
            "tags": []
          },
          "execution_count": 3
        }
      ]
    },
    {
      "cell_type": "code",
      "metadata": {
        "id": "QX2D-o0AKgy3",
        "outputId": "ad18470c-668c-41f4-e32c-5a5f181a99d3"
      },
      "source": [
        "'hola' + ' ' + 'mundo'"
      ],
      "execution_count": null,
      "outputs": [
        {
          "output_type": "execute_result",
          "data": {
            "text/plain": [
              "'hola mundo'"
            ]
          },
          "metadata": {
            "tags": []
          },
          "execution_count": 4
        }
      ]
    },
    {
      "cell_type": "code",
      "metadata": {
        "id": "MEdrEgB3Kgy5",
        "outputId": "42e268f9-8cf2-489d-c6c1-7182a4c1925d"
      },
      "source": [
        "print('hola mundo')\n",
        "print('hola mundo'*2)\n",
        "print(\"hola mundo\"*2)"
      ],
      "execution_count": null,
      "outputs": [
        {
          "output_type": "stream",
          "text": [
            "hola mundo\n",
            "hola mundohola mundo\n",
            "hola mundohola mundo\n"
          ],
          "name": "stdout"
        }
      ]
    },
    {
      "cell_type": "markdown",
      "metadata": {
        "id": "F18pmdnoKgy6"
      },
      "source": [
        "**¿Cómo introducimos palabras entre comillas dentro de un string?**"
      ]
    },
    {
      "cell_type": "code",
      "metadata": {
        "id": "fWjoQauKKgy7",
        "outputId": "c2f0b9ac-6099-4bed-8ac3-9a8234c12f7a"
      },
      "source": [
        "print(\"hola 'mundo'\")\n",
        "print('hola \\'mundo\\'')"
      ],
      "execution_count": null,
      "outputs": [
        {
          "output_type": "stream",
          "text": [
            "hola 'mundo'\n",
            "hola 'mundo'\n"
          ],
          "name": "stdout"
        }
      ]
    },
    {
      "cell_type": "code",
      "metadata": {
        "id": "T4iS5Oy_Kgy8",
        "outputId": "910a9a43-ec01-4535-ff4c-aa0ab8caed98"
      },
      "source": [
        "type(2) # Ajam, ajam! Probando, probando!\n",
        "\n",
        "# Esto es un comentario! Se ignora a la hora de ejecución (y compilación).\n",
        "\n",
        "\n",
        "\n",
        "# type nos devuelve el tipo de variable introducido"
      ],
      "execution_count": null,
      "outputs": [
        {
          "output_type": "execute_result",
          "data": {
            "text/plain": [
              "int"
            ]
          },
          "metadata": {
            "tags": []
          },
          "execution_count": 7
        }
      ]
    },
    {
      "cell_type": "code",
      "metadata": {
        "id": "cKte6xgGKgy-",
        "outputId": "d6090d19-52cd-4e7c-85c7-d52baefee5cf"
      },
      "source": [
        "print('Hay 4 tipos de variables básicas en Python:')\n",
        "print('\\t - int: variable de número entero (integer)')\n",
        "print('\\t - float: variable de número real (float point)')\n",
        "print('\\t - str: variable string, de carácteres de texto (string)')\n",
        "print('\\t - bool: variable binaria, True o False (boolean)')\n",
        "print()\n",
        "print('Estos tipos de variable pueden asignarse a nombres, para trabajar en modo \\'compinador\\'')\n",
        "\n",
        "# Aquí estamos devolviendo en la pantalla la explicación de las variables\n",
        "#  básicas de Python... quizá un poco aburrido ;)\n",
        "\n",
        "print('\\n \\'print()\\' devuelve en la pantalla variables de tipo str, int, float, bool.')"
      ],
      "execution_count": null,
      "outputs": [
        {
          "output_type": "stream",
          "text": [
            "Hay 4 tipos de variables básicas en Python:\n",
            "\t - int: variable de número entero (integer)\n",
            "\t - float: variable de número real (float point)\n",
            "\t - str: variable string, de carácteres de texto (string)\n",
            "\t - bool: variable binaria, True o False (boolean)\n",
            "\n",
            "Estos tipos de variable pueden asignarse a nombres, para trabajar en modo 'compinador'\n",
            "\n",
            " 'print()' devuelve en la pantalla variables de tipo str, int, float, bool.\n"
          ],
          "name": "stdout"
        }
      ]
    },
    {
      "cell_type": "code",
      "metadata": {
        "id": "SNrrTpcDKgzC",
        "outputId": "c9d2723c-642e-43eb-c6a9-3723ee1e2835"
      },
      "source": [
        "este_curso_es_de_python = True\n",
        "print(este_curso_es_de_python)"
      ],
      "execution_count": null,
      "outputs": [
        {
          "output_type": "stream",
          "text": [
            "True\n"
          ],
          "name": "stdout"
        }
      ]
    },
    {
      "cell_type": "code",
      "metadata": {
        "id": "_GVGhRveKgzD",
        "outputId": "432388ba-ce52-46d8-d029-7a39e5d7aeaa"
      },
      "source": [
        "#'HOLA'.lower() # Cada variable tiene su juego, lo veremos más adelante.\n",
        "'hola'.upper()"
      ],
      "execution_count": null,
      "outputs": [
        {
          "output_type": "execute_result",
          "data": {
            "text/plain": [
              "'HOLA'"
            ]
          },
          "metadata": {
            "tags": []
          },
          "execution_count": 10
        }
      ]
    },
    {
      "cell_type": "code",
      "metadata": {
        "id": "2uQaAUYBKgzD",
        "outputId": "2f98d1d2-3d28-4052-b56b-73dec6c2cc39"
      },
      "source": [
        "str(2.0) # Las variables admiten conversión"
      ],
      "execution_count": null,
      "outputs": [
        {
          "output_type": "execute_result",
          "data": {
            "text/plain": [
              "'2.0'"
            ]
          },
          "metadata": {
            "tags": []
          },
          "execution_count": 11
        }
      ]
    },
    {
      "cell_type": "code",
      "metadata": {
        "id": "aVVFtE-8KgzE",
        "outputId": "f7701ffe-eaf0-40c1-a257-8f2dad554e38"
      },
      "source": [
        "int(2.0) # Las variables admiten conversión"
      ],
      "execution_count": null,
      "outputs": [
        {
          "output_type": "execute_result",
          "data": {
            "text/plain": [
              "2"
            ]
          },
          "metadata": {
            "tags": []
          },
          "execution_count": 12
        }
      ]
    },
    {
      "cell_type": "markdown",
      "metadata": {
        "id": "5DLTCoNQKgzU"
      },
      "source": [
        "## 2- Python en modo compilador (programación estructurada)\n",
        "\n",
        "Cada línea es una orden independiente\n",
        "\n",
        "No hace falta marcar el **final de linea**, como en otros lenguajes de programación (Matlab, Java, C)"
      ]
    },
    {
      "cell_type": "code",
      "metadata": {
        "id": "ep8fqlHjKgzX",
        "outputId": "8e230796-4b97-4416-842b-124642c6c1df"
      },
      "source": [
        "a = 12\n",
        "b = 10\n",
        "c = a*b\n",
        "print(c)\n",
        "\n",
        "d = a/b\n",
        "print(d)\n",
        "\n",
        "\n",
        "e = a//b # Redondeo a número entero, hacia abajo\n",
        "print(e)\n",
        "\n",
        "f = a%b  # Resto\n",
        "print(f)\n",
        "\n",
        "\n",
        "resto = f\n",
        "cociente = e\n",
        "print(cociente*b+resto) # Igual a la variable 'a' (dividendo)\n"
      ],
      "execution_count": null,
      "outputs": [
        {
          "output_type": "stream",
          "text": [
            "120\n",
            "1.2\n",
            "1\n",
            "2\n",
            "12\n"
          ],
          "name": "stdout"
        }
      ]
    },
    {
      "cell_type": "code",
      "metadata": {
        "scrolled": true,
        "id": "F_egjqElKgzZ"
      },
      "source": [
        "#del a"
      ],
      "execution_count": null,
      "outputs": []
    },
    {
      "cell_type": "code",
      "metadata": {
        "id": "OcD6Y6a0Kgza",
        "outputId": "80bc5c8d-bfcf-4acf-cfa9-2cbdca626fd0"
      },
      "source": [
        "master = 'Modelización'\n",
        "\n",
        "print(master*b)"
      ],
      "execution_count": null,
      "outputs": [
        {
          "output_type": "stream",
          "text": [
            "ModelizaciónModelizaciónModelizaciónModelizaciónModelizaciónModelizaciónModelizaciónModelizaciónModelizaciónModelización\n"
          ],
          "name": "stdout"
        }
      ]
    },
    {
      "cell_type": "code",
      "metadata": {
        "id": "gjq05vowKgza",
        "outputId": "b0ff3a78-ed89-4ed5-ead3-76a21e1e8cb3"
      },
      "source": [
        "curso = 2020\n",
        "print(f'El master es sobre {master} - {curso}')"
      ],
      "execution_count": null,
      "outputs": [
        {
          "output_type": "stream",
          "text": [
            "El master es sobre Modelización - 2020\n"
          ],
          "name": "stdout"
        }
      ]
    },
    {
      "cell_type": "markdown",
      "metadata": {
        "id": "3ebY2B1iKgza"
      },
      "source": [
        "## 3 - Variables compuestas: listas, tuplas, diccionarios\n",
        "\n",
        " - Estas variables contienen un número de variables dentro de sí.\n",
        "\n",
        " - Las variables contenidas pueden ser de diferentes tipos"
      ]
    },
    {
      "cell_type": "markdown",
      "metadata": {
        "id": "QcMEI0iqKgza"
      },
      "source": [
        "### 3.1 - Listas (list)"
      ]
    },
    {
      "cell_type": "code",
      "metadata": {
        "id": "qyDGxb_fKgzb"
      },
      "source": [
        "numeros = [1.0, 2, 3.0, 4, 5]\n",
        "nombres = ['Gorka', 'Irene', 'Pedro', 'Ana', 'Leire']\n",
        "datos = [0, True, '1999', 3.1415]"
      ],
      "execution_count": null,
      "outputs": []
    },
    {
      "cell_type": "code",
      "metadata": {
        "id": "ldzpSJoMKgzb",
        "outputId": "0340e025-6104-433d-d9fc-9a901f235670"
      },
      "source": [
        "type(numeros)"
      ],
      "execution_count": null,
      "outputs": [
        {
          "output_type": "execute_result",
          "data": {
            "text/plain": [
              "list"
            ]
          },
          "metadata": {
            "tags": []
          },
          "execution_count": 18
        }
      ]
    },
    {
      "cell_type": "markdown",
      "metadata": {
        "id": "wfUoWK9ZKgzc"
      },
      "source": [
        "Cada elemento tiene una posición asignada: 0,1,2,...\n",
        "\n",
        "Para obtener el elemento en alguna de las posiciones se utilizan corchetes '[0]'"
      ]
    },
    {
      "cell_type": "code",
      "metadata": {
        "id": "u9Cb7u8EKgzc",
        "outputId": "a4e53bc0-da2c-4aba-e3ed-1347c0638b74"
      },
      "source": [
        "print(numeros[0])\n",
        "print(nombres[3])\n",
        "datos[1:3] # Desde el elemento 1 hasta el 2"
      ],
      "execution_count": null,
      "outputs": [
        {
          "output_type": "stream",
          "text": [
            "1.0\n",
            "Ana\n"
          ],
          "name": "stdout"
        },
        {
          "output_type": "execute_result",
          "data": {
            "text/plain": [
              "[True, '1999']"
            ]
          },
          "metadata": {
            "tags": []
          },
          "execution_count": 19
        }
      ]
    },
    {
      "cell_type": "markdown",
      "metadata": {
        "id": "QyuUoBK4Kgzd"
      },
      "source": [
        "Los valores pueden sustituirse (se dice que las listas son mutables)"
      ]
    },
    {
      "cell_type": "code",
      "metadata": {
        "id": "6AwEqyygKgzd",
        "outputId": "3fd3b4e8-90b2-45ef-a151-7e788b2bcbbe"
      },
      "source": [
        "nombres[0] = 'Calabacín'\n",
        "print(nombres) # Imprimimos toda la lista, esta se convierte a tipo string implicitamente"
      ],
      "execution_count": null,
      "outputs": [
        {
          "output_type": "stream",
          "text": [
            "['Calabacín', 'Irene', 'Pedro', 'Ana', 'Leire']\n"
          ],
          "name": "stdout"
        }
      ]
    },
    {
      "cell_type": "markdown",
      "metadata": {
        "id": "9RClqCB0Kgzd"
      },
      "source": [
        "El número de elementos se obtiene mediante 'len(nombres)'.\n",
        "\n",
        "Nuevos elementos pueden añadirse mediante '.append()'"
      ]
    },
    {
      "cell_type": "code",
      "metadata": {
        "id": "TCLrgupkKgzd",
        "outputId": "155741ed-d05e-414f-99eb-3133ca6291c4"
      },
      "source": [
        "len(nombres)"
      ],
      "execution_count": null,
      "outputs": [
        {
          "output_type": "execute_result",
          "data": {
            "text/plain": [
              "5"
            ]
          },
          "metadata": {
            "tags": []
          },
          "execution_count": 21
        }
      ]
    },
    {
      "cell_type": "code",
      "metadata": {
        "id": "fUyNXDeUKgze",
        "outputId": "fa7fbc5d-f82d-4de0-deb8-ca7a45c45e18"
      },
      "source": [
        "print(len(nombres))\n",
        "nombres.append('Gorka')\n",
        "print(len(nombres)) # Un elemento más que antes\n",
        "print(nombres)"
      ],
      "execution_count": null,
      "outputs": [
        {
          "output_type": "stream",
          "text": [
            "5\n",
            "6\n",
            "['Calabacín', 'Irene', 'Pedro', 'Ana', 'Leire', 'Gorka']\n"
          ],
          "name": "stdout"
        }
      ]
    },
    {
      "cell_type": "markdown",
      "metadata": {
        "id": "jHFRLI2oKgze"
      },
      "source": [
        "Las listas pueden 'pegarse' mediante el oprador de suma (+)"
      ]
    },
    {
      "cell_type": "code",
      "metadata": {
        "id": "_pKsCpsxKgzf",
        "outputId": "3515d3e3-63fb-4444-f569-775ed40f88f2"
      },
      "source": [
        "datos2 = numeros + datos\n",
        "print(datos2)"
      ],
      "execution_count": null,
      "outputs": [
        {
          "output_type": "stream",
          "text": [
            "[1.0, 2, 3.0, 4, 5, 0, True, '1999', 3.1415]\n"
          ],
          "name": "stdout"
        }
      ]
    },
    {
      "cell_type": "markdown",
      "metadata": {
        "id": "S686tydhKgzg"
      },
      "source": [
        "- **más opciones: slicing, sum, listas de listas**"
      ]
    },
    {
      "cell_type": "code",
      "metadata": {
        "id": "8l8blbhaKgzg",
        "outputId": "e169e51e-c018-4e35-fb69-21b02da8de8c"
      },
      "source": [
        "# Seleccionar elementos hasta\n",
        "datos2[1:6] # Del segundo elemento hasta el 6to (recordad: empieza de 0)"
      ],
      "execution_count": null,
      "outputs": [
        {
          "output_type": "execute_result",
          "data": {
            "text/plain": [
              "[2, 3.0, 4, 5, 0]"
            ]
          },
          "metadata": {
            "tags": []
          },
          "execution_count": 24
        }
      ]
    },
    {
      "cell_type": "code",
      "metadata": {
        "id": "KRVtbmJWKgzh",
        "outputId": "e97dfa54-61ae-4146-8710-4e4ea3323410"
      },
      "source": [
        "# Sumar elementos en la lista\n",
        "sum(datos2[1:6])"
      ],
      "execution_count": null,
      "outputs": [
        {
          "output_type": "execute_result",
          "data": {
            "text/plain": [
              "14.0"
            ]
          },
          "metadata": {
            "tags": []
          },
          "execution_count": 25
        }
      ]
    },
    {
      "cell_type": "code",
      "metadata": {
        "id": "SQbyKaz0Kgzh"
      },
      "source": [
        "# Esto devuelve error\n",
        "#sum(nombres)"
      ],
      "execution_count": null,
      "outputs": []
    },
    {
      "cell_type": "code",
      "metadata": {
        "id": "6rcVcHvkKgzh",
        "outputId": "c236ca3b-7d84-49fb-9d50-1fe060a13a87"
      },
      "source": [
        "# Podemos creas listas con listas\n",
        "lista_de_listas = [datos2, datos]\n",
        "print(lista_de_listas)"
      ],
      "execution_count": null,
      "outputs": [
        {
          "output_type": "stream",
          "text": [
            "[[1.0, 2, 3.0, 4, 5, 0, True, '1999', 3.1415], [0, True, '1999', 3.1415]]\n"
          ],
          "name": "stdout"
        }
      ]
    },
    {
      "cell_type": "markdown",
      "metadata": {
        "id": "UeobOf-CKgzh"
      },
      "source": [
        "### 3.2 - Tuplas (tuple)\n",
        "\n",
        "Como las listas, pero en este caso son inmutables, las **variables que la componen no pueden alterarse**.\n",
        "\n",
        "Se utilizan los paréntesis"
      ]
    },
    {
      "cell_type": "code",
      "metadata": {
        "id": "ph3ZnwXxKgzh"
      },
      "source": [
        "jupyter = ('J', 'U', 'P', 'Y', 'T', 'E', 'R')"
      ],
      "execution_count": null,
      "outputs": []
    },
    {
      "cell_type": "code",
      "metadata": {
        "id": "9bc28ALYKgzi",
        "outputId": "46b6e2e1-cc5c-46c8-c92c-fe8cf5dea5ab"
      },
      "source": [
        "jupyter[3]"
      ],
      "execution_count": null,
      "outputs": [
        {
          "output_type": "execute_result",
          "data": {
            "text/plain": [
              "'Y'"
            ]
          },
          "metadata": {
            "tags": []
          },
          "execution_count": 29
        }
      ]
    },
    {
      "cell_type": "code",
      "metadata": {
        "id": "55-TArm0Kgzi",
        "outputId": "ff7f559a-60cf-44e6-e3ea-0bd6aa05c975"
      },
      "source": [
        "jupyter[3] = 'A' # Esto nos devuelve un error (TypeError)\n",
        "#                    devido a la propiedad inmutable de las tuplas"
      ],
      "execution_count": null,
      "outputs": [
        {
          "output_type": "error",
          "ename": "TypeError",
          "evalue": "'tuple' object does not support item assignment",
          "traceback": [
            "\u001b[1;31m---------------------------------------------------------------------------\u001b[0m",
            "\u001b[1;31mTypeError\u001b[0m                                 Traceback (most recent call last)",
            "\u001b[1;32m<ipython-input-30-76ddbd2c5ec1>\u001b[0m in \u001b[0;36m<module>\u001b[1;34m\u001b[0m\n\u001b[1;32m----> 1\u001b[1;33m \u001b[0mjupyter\u001b[0m\u001b[1;33m[\u001b[0m\u001b[1;36m3\u001b[0m\u001b[1;33m]\u001b[0m \u001b[1;33m=\u001b[0m \u001b[1;34m'A'\u001b[0m \u001b[1;31m# Esto nos devuelve un error (TypeError)\u001b[0m\u001b[1;33m\u001b[0m\u001b[1;33m\u001b[0m\u001b[0m\n\u001b[0m\u001b[0;32m      2\u001b[0m \u001b[1;31m#                    devido a la propiedad inmutable de las tuplas\u001b[0m\u001b[1;33m\u001b[0m\u001b[1;33m\u001b[0m\u001b[1;33m\u001b[0m\u001b[0m\n",
            "\u001b[1;31mTypeError\u001b[0m: 'tuple' object does not support item assignment"
          ]
        }
      ]
    },
    {
      "cell_type": "code",
      "metadata": {
        "scrolled": true,
        "id": "zqwG3svaKgzi",
        "outputId": "6d032efc-3b13-4de4-ad2c-821369588361"
      },
      "source": [
        "jupyter[3:7] + jupyter[0:3] # Esto devuelve otra tupla"
      ],
      "execution_count": null,
      "outputs": [
        {
          "output_type": "execute_result",
          "data": {
            "text/plain": [
              "('Y', 'T', 'E', 'R', 'J', 'U', 'P')"
            ]
          },
          "metadata": {
            "tags": []
          },
          "execution_count": 33
        }
      ]
    },
    {
      "cell_type": "markdown",
      "metadata": {
        "id": "ApNyHsDiKgzj"
      },
      "source": [
        "**¿En que caso utlizarias tú una lista y en cual una tupla?**"
      ]
    },
    {
      "cell_type": "markdown",
      "metadata": {
        "id": "vPWcNetaKgzk"
      },
      "source": [
        "### 3.3 - Diccionarios (dict)\n",
        "\n",
        "Es una combinación de 'llave' y 'valor', se utilizan los corchetes **'{llave: valor}'**."
      ]
    },
    {
      "cell_type": "code",
      "metadata": {
        "id": "Xs7nB-elKgzk"
      },
      "source": [
        "# Definimos nuestro diccionario\n",
        "constantes = {'pi': 3.14159265358979, 'phi': ( 1+5**(1/2) )/2}"
      ],
      "execution_count": null,
      "outputs": []
    },
    {
      "cell_type": "code",
      "metadata": {
        "id": "msuUZzKOKgzk",
        "outputId": "d097d451-c672-47dd-9ad5-7fb1874ebae6"
      },
      "source": [
        "# Accedemos al valor (value) de la llave (key) 'phi'\n",
        "constantes['phi']"
      ],
      "execution_count": null,
      "outputs": [
        {
          "output_type": "execute_result",
          "data": {
            "text/plain": [
              "1.618033988749895"
            ]
          },
          "metadata": {
            "tags": []
          },
          "execution_count": 35
        }
      ]
    },
    {
      "cell_type": "markdown",
      "metadata": {
        "id": "i4oFByRZKgzk"
      },
      "source": [
        "**Se pueden añadir elementos**"
      ]
    },
    {
      "cell_type": "code",
      "metadata": {
        "id": "McyktcJKKgzk"
      },
      "source": [
        "# Key  valor\n",
        "n=99999999  # Un valor muy alto, 'infinito'\n",
        "constantes['e'] = round((1+1/n)**n, 10) # Con el método round podemos redondear las decimales"
      ],
      "execution_count": null,
      "outputs": []
    },
    {
      "cell_type": "code",
      "metadata": {
        "scrolled": true,
        "id": "pepowWHuKgzl",
        "outputId": "410db66b-441b-46a3-987f-59fd82e8f0ef"
      },
      "source": [
        "print(type(constantes))\n",
        "print(constantes)"
      ],
      "execution_count": null,
      "outputs": [
        {
          "output_type": "stream",
          "text": [
            "<class 'dict'>\n",
            "{'pi': 3.14159265358979, 'phi': 1.618033988749895, 'e': 2.7182818315}\n"
          ],
          "name": "stdout"
        }
      ]
    },
    {
      "cell_type": "markdown",
      "metadata": {
        "id": "UQsUbubVKgzm"
      },
      "source": [
        "- **Llaves** (keys) del diccionario"
      ]
    },
    {
      "cell_type": "code",
      "metadata": {
        "id": "hwvoxvAqKgzm",
        "outputId": "5a3c3d7a-02e7-466d-f426-07b13f6afa3c"
      },
      "source": [
        "constantes.keys()"
      ],
      "execution_count": null,
      "outputs": [
        {
          "output_type": "execute_result",
          "data": {
            "text/plain": [
              "dict_keys(['pi', 'phi', 'e'])"
            ]
          },
          "metadata": {
            "tags": []
          },
          "execution_count": 38
        }
      ]
    },
    {
      "cell_type": "markdown",
      "metadata": {
        "id": "diAtTQ25Kgzn"
      },
      "source": [
        "- **Valores** (values) del diccionario"
      ]
    },
    {
      "cell_type": "code",
      "metadata": {
        "id": "tgq5fPHaKgzo",
        "outputId": "eabd7ded-f4c8-4b5e-a161-5ecafb41aef1"
      },
      "source": [
        "# Los valores (values) del diccionario\n",
        "constantes.values()"
      ],
      "execution_count": null,
      "outputs": [
        {
          "output_type": "execute_result",
          "data": {
            "text/plain": [
              "dict_values([3.14159265358979, 1.618033988749895, 2.7182818315])"
            ]
          },
          "metadata": {
            "tags": []
          },
          "execution_count": 39
        }
      ]
    },
    {
      "cell_type": "markdown",
      "metadata": {
        "id": "9DUsiom8Kgzo"
      },
      "source": [
        "- **Elementos** (items) del diccionario"
      ]
    },
    {
      "cell_type": "code",
      "metadata": {
        "id": "PetDlIBYKgzo",
        "outputId": "0daa133b-857c-482a-e128-4e8fb12d9fc9"
      },
      "source": [
        "# Los elementos del diccionario\n",
        "constantes.items()"
      ],
      "execution_count": null,
      "outputs": [
        {
          "output_type": "execute_result",
          "data": {
            "text/plain": [
              "dict_items([('pi', 3.14159265358979), ('phi', 1.618033988749895), ('e', 2.7182818315)])"
            ]
          },
          "metadata": {
            "tags": []
          },
          "execution_count": 40
        }
      ]
    },
    {
      "cell_type": "markdown",
      "metadata": {
        "id": "WrN_LyzVKgzp"
      },
      "source": [
        "**Ejemplo: sala de cine**\n",
        "\n",
        "El cine [Golem de la Alhondiga](https://golem.es/golemv9/cine.php?idCine=9) de Bilbo tiene una sala pequeña con **8 filas numeradas** y **5 columnas con letras**.\n",
        "\n",
        "Queremos definir una estructura que nos permita acceder a los asientos, guardar su estado y consultarlo. Éste último debe ser variable, puesto que las entradas se pondrán a la venta mañana a las 10:00."
      ]
    },
    {
      "cell_type": "code",
      "metadata": {
        "id": "ZeGzybOkKgzp"
      },
      "source": [
        "asientos_cine = {(1, 'A'): 'Libre', (1, 'B'): 'Libre', (1, 'C'): 'Libre', (1, 'D'): 'Libre', (1, 'E'): 'Libre',\n",
        "                 (2, 'A'): 'Libre', (2, 'B'): 'Libre', (2, 'C'): 'Libre', (2, 'D'): 'Libre', (2, 'E'): 'Libre',\n",
        "                 (3, 'A'): 'Libre', (3, 'B'): 'Libre', (3, 'C'): 'Libre', (3, 'D'): 'Libre', (3, 'E'): 'Libre',\n",
        "                 (4, 'A'): 'Libre', (4, 'B'): 'Libre', (4, 'C'): 'Libre', (4, 'D'): 'Libre', (4, 'E'): 'Libre',\n",
        "                 (5, 'A'): 'Libre', (5, 'B'): 'Libre', (5, 'C'): 'Libre', (5, 'D'): 'Libre', (5, 'E'): 'Libre',\n",
        "                 (6, 'A'): 'Libre', (6, 'B'): 'Libre', (6, 'C'): 'Libre', (6, 'D'): 'Libre', (6, 'E'): 'Libre',\n",
        "                 (7, 'A'): 'Libre', (7, 'B'): 'Libre', (7, 'C'): 'Libre', (7, 'D'): 'Libre', (7, 'E'): 'Libre',\n",
        "                 (8, 'A'): 'Libre', (8, 'B'): 'Libre', (8, 'C'): 'Libre', (8, 'D'): 'Libre', (8, 'E'): 'Libre'}"
      ],
      "execution_count": null,
      "outputs": []
    },
    {
      "cell_type": "code",
      "metadata": {
        "id": "E9dT29hCKgzp",
        "outputId": "fefcaa1c-2d22-4e51-c34d-972fa8e0e427"
      },
      "source": [
        "asientos_cine[(4,'B')]"
      ],
      "execution_count": null,
      "outputs": [
        {
          "output_type": "execute_result",
          "data": {
            "text/plain": [
              "'Libre'"
            ]
          },
          "metadata": {
            "tags": []
          },
          "execution_count": 42
        }
      ]
    },
    {
      "cell_type": "code",
      "metadata": {
        "id": "TXNOWBgeKgzp",
        "outputId": "22796acf-9f40-4510-b37c-8e6f2634759c"
      },
      "source": [
        "asientos_cine[(4,'C')]"
      ],
      "execution_count": null,
      "outputs": [
        {
          "output_type": "execute_result",
          "data": {
            "text/plain": [
              "'Libre'"
            ]
          },
          "metadata": {
            "tags": []
          },
          "execution_count": 43
        }
      ]
    },
    {
      "cell_type": "code",
      "metadata": {
        "id": "2GYqB8VfKgzp"
      },
      "source": [
        "# A las 10:06 compramos dos tickets en asientos contiguos\n",
        "asientos_cine[(4,'B')] = 'Ocupado'\n",
        "asientos_cine[(4,'C')] = 'Ocupado'"
      ],
      "execution_count": null,
      "outputs": []
    },
    {
      "cell_type": "code",
      "metadata": {
        "id": "bG1rV1jSKgzq",
        "outputId": "19cff4c3-34c8-4ded-8d14-8c1032d6dc2a"
      },
      "source": [
        "asientos_cine"
      ],
      "execution_count": null,
      "outputs": [
        {
          "output_type": "execute_result",
          "data": {
            "text/plain": [
              "{(1, 'A'): 'Libre',\n",
              " (1, 'B'): 'Libre',\n",
              " (1, 'C'): 'Libre',\n",
              " (1, 'D'): 'Libre',\n",
              " (1, 'E'): 'Libre',\n",
              " (2, 'A'): 'Libre',\n",
              " (2, 'B'): 'Libre',\n",
              " (2, 'C'): 'Libre',\n",
              " (2, 'D'): 'Libre',\n",
              " (2, 'E'): 'Libre',\n",
              " (3, 'A'): 'Libre',\n",
              " (3, 'B'): 'Libre',\n",
              " (3, 'C'): 'Libre',\n",
              " (3, 'D'): 'Libre',\n",
              " (3, 'E'): 'Libre',\n",
              " (4, 'A'): 'Libre',\n",
              " (4, 'B'): 'Ocupado',\n",
              " (4, 'C'): 'Ocupado',\n",
              " (4, 'D'): 'Libre',\n",
              " (4, 'E'): 'Libre',\n",
              " (5, 'A'): 'Libre',\n",
              " (5, 'B'): 'Libre',\n",
              " (5, 'C'): 'Libre',\n",
              " (5, 'D'): 'Libre',\n",
              " (5, 'E'): 'Libre',\n",
              " (6, 'A'): 'Libre',\n",
              " (6, 'B'): 'Libre',\n",
              " (6, 'C'): 'Libre',\n",
              " (6, 'D'): 'Libre',\n",
              " (6, 'E'): 'Libre',\n",
              " (7, 'A'): 'Libre',\n",
              " (7, 'B'): 'Libre',\n",
              " (7, 'C'): 'Libre',\n",
              " (7, 'D'): 'Libre',\n",
              " (7, 'E'): 'Libre',\n",
              " (8, 'A'): 'Libre',\n",
              " (8, 'B'): 'Libre',\n",
              " (8, 'C'): 'Libre',\n",
              " (8, 'D'): 'Libre',\n",
              " (8, 'E'): 'Libre'}"
            ]
          },
          "metadata": {
            "tags": []
          },
          "execution_count": 45
        }
      ]
    },
    {
      "cell_type": "markdown",
      "metadata": {
        "id": "Xy5IMG8LKgzq"
      },
      "source": [
        "**Vuelve a ejecutar la celda debajo de *'Consultamos la disponibilidad'*. ¿Qué ha cambiado?**"
      ]
    },
    {
      "cell_type": "markdown",
      "metadata": {
        "id": "sXRmA5H8Kgzq"
      },
      "source": [
        "## 4 - Estructuras de programación\n",
        "\n",
        " - Ciclos loop: **for**\n",
        " \n",
        " - Condicionales **if, elif** y **else**\n",
        " \n",
        " - Ciclos loop: **while / for**\n",
        "     - desviaciones del ciclo **(continue, break, exit)**\n"
      ]
    },
    {
      "cell_type": "markdown",
      "metadata": {
        "id": "HjLodSbtKgzq"
      },
      "source": [
        "### 4.1 - Ciclos (primeros loops)"
      ]
    },
    {
      "cell_type": "markdown",
      "metadata": {
        "id": "btVUiuZ8Kgzr"
      },
      "source": [
        "**¿Qué pasa si ejecutamos una y otra vez la quinta celda de la sección *4.1 - Ciclos*?**"
      ]
    },
    {
      "cell_type": "markdown",
      "metadata": {
        "id": "IQOe3GZZKgzr"
      },
      "source": [
        "#### For"
      ]
    },
    {
      "cell_type": "code",
      "metadata": {
        "id": "es8WaHQxKgzr",
        "outputId": "f3a81523-7fe3-45db-8b5a-59b085718a78"
      },
      "source": [
        "for num in [1,2,3]: # Este for recorre los elementos de la lista, asignandole sus valores a num\n",
        "    print(num)"
      ],
      "execution_count": null,
      "outputs": [
        {
          "output_type": "stream",
          "text": [
            "1\n",
            "2\n",
            "3\n"
          ],
          "name": "stdout"
        }
      ]
    },
    {
      "cell_type": "code",
      "metadata": {
        "id": "nmUpQg8eKgzs",
        "outputId": "adfafddb-6862-45e3-bab8-bc5fc6d67e90"
      },
      "source": [
        "number = 2\n",
        "for number in [1,2,3,4,5]: # La variable number queda asociada al último ciclo del bucle\n",
        "    print(number)\n",
        "print()\n",
        "print(number)"
      ],
      "execution_count": null,
      "outputs": [
        {
          "output_type": "stream",
          "text": [
            "1\n",
            "2\n",
            "3\n",
            "4\n",
            "5\n",
            "\n",
            "5\n"
          ],
          "name": "stdout"
        }
      ]
    },
    {
      "cell_type": "markdown",
      "metadata": {
        "id": "8XuEp-CwKgzs"
      },
      "source": [
        "**range()**\n",
        "\n",
        "nos sirve para recorrer números en loops"
      ]
    },
    {
      "cell_type": "code",
      "metadata": {
        "id": "MRNfoXXPKgzs",
        "outputId": "1f1deb5a-3b92-42d3-c713-0b283503f09f"
      },
      "source": [
        "for tiempo in range(10): # Empieza en 0, termina en 9\n",
        "    print(tiempo)"
      ],
      "execution_count": null,
      "outputs": [
        {
          "output_type": "stream",
          "text": [
            "0\n",
            "1\n",
            "2\n",
            "3\n",
            "4\n",
            "5\n",
            "6\n",
            "7\n",
            "8\n",
            "9\n"
          ],
          "name": "stdout"
        }
      ]
    },
    {
      "cell_type": "code",
      "metadata": {
        "id": "WeFXvdVEKgzs",
        "outputId": "774291ba-bc6f-46ae-afbe-2d4106fa0fe7"
      },
      "source": [
        "for tiempo in range(1,11): # Empieza en 1, termina en 10\n",
        "    print(tiempo)"
      ],
      "execution_count": null,
      "outputs": [
        {
          "output_type": "stream",
          "text": [
            "1\n",
            "2\n",
            "3\n",
            "4\n",
            "5\n",
            "6\n",
            "7\n",
            "8\n",
            "9\n",
            "10\n"
          ],
          "name": "stdout"
        }
      ]
    },
    {
      "cell_type": "code",
      "metadata": {
        "id": "Mqxoe9oKKgzt",
        "outputId": "39d8a5fb-dcee-471c-f1c5-dfad9b3673c1"
      },
      "source": [
        "salto = 2\n",
        "for tiempo in range(1,11,salto): # Empieza en 1 y hace saltos dependiendo de la variable salto devolviendo valores menores que 11\n",
        "    print(tiempo)"
      ],
      "execution_count": null,
      "outputs": [
        {
          "output_type": "stream",
          "text": [
            "1\n",
            "3\n",
            "5\n",
            "7\n",
            "9\n"
          ],
          "name": "stdout"
        }
      ]
    },
    {
      "cell_type": "code",
      "metadata": {
        "id": "y4XuLpEJKgzu",
        "outputId": "61221a8b-c3e5-425d-fdb2-42e2bd769769"
      },
      "source": [
        "salto = 2\n",
        "for fila in range(1,6): # los bucles pueden anidarse (nested)\n",
        "    for columna in range(1,6):\n",
        "        print(fila, columna) # Estamos utilizando 'print' con dos variables separadas por coma"
      ],
      "execution_count": null,
      "outputs": [
        {
          "output_type": "stream",
          "text": [
            "1 1\n",
            "1 2\n",
            "1 3\n",
            "1 4\n",
            "1 5\n",
            "2 1\n",
            "2 2\n",
            "2 3\n",
            "2 4\n",
            "2 5\n",
            "3 1\n",
            "3 2\n",
            "3 3\n",
            "3 4\n",
            "3 5\n",
            "4 1\n",
            "4 2\n",
            "4 3\n",
            "4 4\n",
            "4 5\n",
            "5 1\n",
            "5 2\n",
            "5 3\n",
            "5 4\n",
            "5 5\n"
          ],
          "name": "stdout"
        }
      ]
    },
    {
      "cell_type": "markdown",
      "metadata": {
        "id": "9f7dQXxYKgzu"
      },
      "source": [
        "**len()**\n",
        "\n",
        "podemos utilizarlo dentro de **range**"
      ]
    },
    {
      "cell_type": "code",
      "metadata": {
        "id": "5gz157NtKgzu",
        "outputId": "640bc480-b525-4076-c1e8-d7515179bcf5"
      },
      "source": [
        "filas_list = ('A', 'B', 'C', 'D') # Creamos una tupla \n",
        "\n",
        "for fila_idx in range(len(filas_list)):\n",
        "    print(fila_idx, filas_list[fila_idx]) # Imprimimos el indice y la variable asociada a esa posicion"
      ],
      "execution_count": null,
      "outputs": [
        {
          "output_type": "stream",
          "text": [
            "0 A\n",
            "1 B\n",
            "2 C\n",
            "3 D\n"
          ],
          "name": "stdout"
        }
      ]
    },
    {
      "cell_type": "code",
      "metadata": {
        "id": "qSex4RxAKgzu",
        "outputId": "ba89f3d0-3542-41c5-81fc-fb808ca03c0d"
      },
      "source": [
        "butacas = list(range(1,11)) # list() convierte el rango en una lista\n",
        "print(butacas)\n",
        "\n",
        "butacas = tuple(range(1,11)) # tuple() convierte el rango en una tupla (inmutable)\n",
        "print(butacas)"
      ],
      "execution_count": null,
      "outputs": [
        {
          "output_type": "stream",
          "text": [
            "[1, 2, 3, 4, 5, 6, 7, 8, 9, 10]\n",
            "(1, 2, 3, 4, 5, 6, 7, 8, 9, 10)\n"
          ],
          "name": "stdout"
        }
      ]
    },
    {
      "cell_type": "markdown",
      "metadata": {
        "id": "h4nooVQwKgzw"
      },
      "source": [
        " **¿Como guardarias el estado de las butacas de cada fila de un cine?**\n",
        " \n",
        "<details>\n",
        "<summary> ->Pista</summary>\n",
        "Enciclopedia\n",
        "</details>\n",
        "\n"
      ]
    },
    {
      "cell_type": "markdown",
      "metadata": {
        "id": "mdelXzZkKgzw"
      },
      "source": [
        "### 4.2 - Condicionales\n",
        "\n",
        "Ejecutar unas ordenes cuando una condición se cumple"
      ]
    },
    {
      "cell_type": "markdown",
      "metadata": {
        "id": "pS02MpR6Kgzx"
      },
      "source": [
        "Las variables booleanas se establecen muchas veces mediante los operadores de condición:\n",
        "\n",
        "- '==' es igual a\n",
        "- '!=' es diferente de\n",
        "- '>=' es mayor o igual a\n",
        "- '<=' es menor o igual a\n",
        "- '>'  es mayor que, '<' es menor que"
      ]
    },
    {
      "cell_type": "markdown",
      "metadata": {
        "id": "Y9zpUTjdKgzx"
      },
      "source": [
        "### If"
      ]
    },
    {
      "cell_type": "code",
      "metadata": {
        "id": "OIQEXU52Kgzx",
        "outputId": "4b82c967-2074-4ea7-e783-3099e3f34c13"
      },
      "source": [
        "if este_curso_es_de_python: # Asegurate de que la celda 'In [8]' se ha ejecutado\n",
        "    print('Hey Pythoner!')"
      ],
      "execution_count": null,
      "outputs": [
        {
          "output_type": "stream",
          "text": [
            "Hey Pythoner!\n"
          ],
          "name": "stdout"
        }
      ]
    },
    {
      "cell_type": "code",
      "metadata": {
        "id": "IC_vzphyKgzx",
        "outputId": "e40fe5a8-92c7-474f-b8c6-9f3924554b60"
      },
      "source": [
        "if 15.22222 >= 39**(1/2):\n",
        "    print('La condición se cumple.')\n",
        "else:\n",
        "    print('La condición no se cumple.')"
      ],
      "execution_count": null,
      "outputs": [
        {
          "output_type": "stream",
          "text": [
            "La condición se cumple.\n"
          ],
          "name": "stdout"
        }
      ]
    },
    {
      "cell_type": "code",
      "metadata": {
        "id": "KUuf8qztKgzy",
        "outputId": "b157ae76-6b60-47fa-8c90-993f0880bf27"
      },
      "source": [
        "if 15.22222 >= 500**(1/2):\n",
        "    print('La condición se cumple.')\n",
        "    es_mayor_o_igual = True\n",
        "else:                                        # En caso de que la expresión de arriba no se cumpla ejecuta las ordenes de debajo\n",
        "    print('La condición no se cumple.')\n",
        "    es_mayor_o_igual = False\n",
        "\n",
        "print(es_mayor_o_igual)"
      ],
      "execution_count": null,
      "outputs": [
        {
          "output_type": "stream",
          "text": [
            "La condición no se cumple.\n",
            "False\n"
          ],
          "name": "stdout"
        }
      ]
    },
    {
      "cell_type": "markdown",
      "metadata": {
        "id": "aRBeBmXgKgzy"
      },
      "source": [
        "**Múliples condiciones**"
      ]
    },
    {
      "cell_type": "code",
      "metadata": {
        "scrolled": true,
        "id": "KYhYR-Z9Kgzy",
        "outputId": "67382518-35d0-4adf-e620-71243c074be3"
      },
      "source": [
        "orden_planetas_dict = {'Mercurio':1, 'Venus' : 2, 'Tierra': 3, 'Marte': 4, 'Júpiter': 5, 'Saturno': 6, 'Urano': 7, 'Neptuno': 8}\n",
        "\n",
        "planeta = 'Marte'\n",
        "\n",
        "if orden_planetas_dict[planeta] > orden_planetas_dict['Urano']:\n",
        "    print(planeta, 'está más lejos del sol que Urano.')\n",
        "elif orden_planetas_dict[planeta] > orden_planetas_dict['Marte']:\n",
        "    print(planeta, 'está más lejos del sol que Marte.')\n",
        "elif orden_planetas_dict[planeta] > orden_planetas_dict['Venus']:\n",
        "    print(planeta, 'está más lejos del sol que venus.')\n",
        "else:\n",
        "    print(planeta, 'está más cerca del sol que la Tierra.')\n"
      ],
      "execution_count": null,
      "outputs": [
        {
          "output_type": "stream",
          "text": [
            "Marte está más lejos del sol que venus.\n"
          ],
          "name": "stdout"
        }
      ]
    },
    {
      "cell_type": "markdown",
      "metadata": {
        "id": "ta3H0oQgKgz0"
      },
      "source": [
        "Una vez se cumple una condición el resto del bloque condicional se ignora.\n",
        "\n",
        "   En este caso se imprimira un planeta más cercano al sol que el planeta especificado mediante la variable 'planeta'."
      ]
    },
    {
      "cell_type": "markdown",
      "metadata": {
        "id": "jkt0GGOMKgz0"
      },
      "source": [
        "### 4.3 - Ciclos while"
      ]
    },
    {
      "cell_type": "code",
      "metadata": {
        "id": "K8_AUYVoKgz0",
        "outputId": "46192382-2b72-4bf6-a034-b0477ae4c63e"
      },
      "source": [
        "numero  = 1\n",
        "while numero < 15:\n",
        "    print(numero, numero**2) \n",
        "    numero = numero +1 # Actualizar variable"
      ],
      "execution_count": null,
      "outputs": [
        {
          "output_type": "stream",
          "text": [
            "1 1\n",
            "2 4\n",
            "3 9\n",
            "4 16\n",
            "5 25\n",
            "6 36\n",
            "7 49\n",
            "8 64\n",
            "9 81\n",
            "10 100\n",
            "11 121\n",
            "12 144\n",
            "13 169\n",
            "14 196\n"
          ],
          "name": "stdout"
        }
      ]
    },
    {
      "cell_type": "code",
      "metadata": {
        "id": "kOayzgAqKgz0",
        "outputId": "6b480e4b-de81-4bf8-9227-2e81746b24c7"
      },
      "source": [
        "curso_activo = True\n",
        "mes = 10\n",
        "while curso_activo:\n",
        "    print(mes)\n",
        "    if mes > 12:\n",
        "        curso_activo = False\n",
        "    \n",
        "    mes  = mes + 1 # Actualización de variable mes\n",
        "\n",
        "print()\n",
        "print(mes)"
      ],
      "execution_count": null,
      "outputs": [
        {
          "output_type": "stream",
          "text": [
            "10\n",
            "11\n",
            "12\n",
            "13\n",
            "\n",
            "14\n"
          ],
          "name": "stdout"
        }
      ]
    },
    {
      "cell_type": "code",
      "metadata": {
        "id": "AwV57YJ8Kgz1",
        "outputId": "af726d72-b3f3-4764-f8bf-cdae06a09c6a"
      },
      "source": [
        "# Fibonacci \n",
        "ii0 = 0\n",
        "ii1 = 1\n",
        "while ii0 < 100:\n",
        "    print(ii0)\n",
        "    ii0, ii1 = ii1, ii0+ii1 # Reasignar valores en una sola linea, sin variables auxiliares (Truco de python)"
      ],
      "execution_count": null,
      "outputs": [
        {
          "output_type": "stream",
          "text": [
            "0\n",
            "1\n",
            "1\n",
            "2\n",
            "3\n",
            "5\n",
            "8\n",
            "13\n",
            "21\n",
            "34\n",
            "55\n",
            "89\n"
          ],
          "name": "stdout"
        }
      ]
    },
    {
      "cell_type": "code",
      "metadata": {
        "id": "QZWISUbzKgz1",
        "outputId": "5dc238b4-0b10-4a68-fffb-8d68db52b9d4"
      },
      "source": [
        "# Fibonacci \n",
        "ii0 = 1\n",
        "ii1 = 1\n",
        "tolerancia = 1e-12\n",
        "contador = 1\n",
        "while abs(ii1/ii0 - constantes['phi']) > tolerancia: # Asegurate de ejecutar la celda 'In [12]'\n",
        "    ii0, ii1 = ii1, ii0+ii1 # Reasignar valores en una sola linea, sin variables auxiliares (Truco de python)\n",
        "    # Contador de la serie\n",
        "    contador += 1 # Equivalente a 'contador = contador + 1'\n",
        "\n",
        "    #print(ii0, ii1, ii1/ii0)\n",
        "# Cuando el bucle termina sabemos que ha convergido    \n",
        "print(f'Se han necesitado {contador} iteraciones `para llegar a la convergencia con una tolerancia de {tolerancia}.\\n\\t {ii1}/{ii0} ~ Phi')\n",
        "    "
      ],
      "execution_count": null,
      "outputs": [
        {
          "output_type": "stream",
          "text": [
            "Se han necesitado 30 iteraciones `para llegar a la convergencia con una tolerancia de 1e-12.\n",
            "\t 1346269/832040 ~ Phi\n"
          ],
          "name": "stdout"
        }
      ]
    },
    {
      "cell_type": "code",
      "metadata": {
        "id": "_jbAwlL_Kgz1",
        "outputId": "567e8030-cf56-4a94-8c3f-f37b3b32daef"
      },
      "source": [
        "import math # De esta forma importamos librerias (conjunto de codigo que podemos usar)\n",
        "# Pi (Leibniz)\n",
        "\n",
        "contador = 0\n",
        "potencia = 3\n",
        "tolerancia = 10**(-potencia)\n",
        "pi = 0\n",
        "while abs(pi - math.pi) > tolerancia:\n",
        "    signo = (-1)**(contador) # Comienza en positivo\n",
        "    pi = pi + 4*(signo*(1.0/(2*contador+1))) # Comienza en 1\n",
        "    contador += 1\n",
        "\n",
        "print(f'Se han necesitado {contador} pasos para llegar a la convergencia con una tolerancia de {tolerancia}.\\n\\t pi~{round(pi,potencia)}')\n"
      ],
      "execution_count": null,
      "outputs": [
        {
          "output_type": "stream",
          "text": [
            "Se han necesitado 1000 pasos para llegar a la convergencia con una tolerancia de 0.001.\n",
            "\t pi~3.141\n"
          ],
          "name": "stdout"
        }
      ]
    },
    {
      "cell_type": "markdown",
      "metadata": {
        "id": "cI2HTGPcKgz2"
      },
      "source": [
        "**Curiosidad:** En 1949 un ENIAC fue capaz de romper el récord, obteniendo 2037 cifras decimales en 70 horas. Para esto se utilizan series de convergencia más rápidas que la de Leibniz (http://crd.lbl.gov/~dhbailey/dhbpapers/dhb-kanada.pdf). Lista de records históricos actualizada en wikipedia (https://es.wikipedia.org/wiki/N%C3%BAmero_%CF%80)."
      ]
    },
    {
      "cell_type": "markdown",
      "metadata": {
        "id": "0uuEYSk7Kgz2"
      },
      "source": [
        "Ordenes **break, continue y pass**."
      ]
    },
    {
      "cell_type": "code",
      "metadata": {
        "id": "MXw-iPOnKgz2",
        "outputId": "b1cc3c3b-1a44-462d-b4e6-423e1bafaf6e"
      },
      "source": [
        "for ii in [0,3,1,-2,5,5,2,7,8]:\n",
        "    print(ii)\n",
        "    if ii==2: \n",
        "        break\n",
        "        \n",
        "print('El blucle ha finalizado!')"
      ],
      "execution_count": null,
      "outputs": [
        {
          "output_type": "stream",
          "text": [
            "0\n",
            "3\n",
            "1\n",
            "-2\n",
            "5\n",
            "5\n",
            "2\n",
            "El blucle ha finalizado!\n"
          ],
          "name": "stdout"
        }
      ]
    },
    {
      "cell_type": "code",
      "metadata": {
        "scrolled": true,
        "id": "4ilD-VdQKgz2",
        "outputId": "e08b70a4-2352-471d-92f9-dfd9346bd1a8"
      },
      "source": [
        "for ii in [0,3,1,-2,5,5,2,7,8]:\n",
        "    if ii==2: \n",
        "        break\n",
        "    print(ii)\n",
        "    \n",
        "print('El blucle ha finalizado!')"
      ],
      "execution_count": null,
      "outputs": [
        {
          "output_type": "stream",
          "text": [
            "0\n",
            "3\n",
            "1\n",
            "-2\n",
            "5\n",
            "5\n",
            "El blucle ha finalizado!\n"
          ],
          "name": "stdout"
        }
      ]
    },
    {
      "cell_type": "markdown",
      "metadata": {
        "id": "RQ3ffj6kKgz2"
      },
      "source": [
        "**pass** no hace nada..."
      ]
    },
    {
      "cell_type": "code",
      "metadata": {
        "id": "bc5Qn3oZKgz3",
        "outputId": "c25f2e74-7222-4553-dbe4-d3b25dc8a5d2"
      },
      "source": [
        "for ii in [0,3,1,-2,5,5,2,7,8]:\n",
        "    if ii==2: \n",
        "        pass\n",
        "    print(ii)"
      ],
      "execution_count": null,
      "outputs": [
        {
          "output_type": "stream",
          "text": [
            "0\n",
            "3\n",
            "1\n",
            "-2\n",
            "5\n",
            "5\n",
            "2\n",
            "7\n",
            "8\n"
          ],
          "name": "stdout"
        }
      ]
    },
    {
      "cell_type": "markdown",
      "metadata": {
        "id": "F5uFFPN1Kgz4"
      },
      "source": [
        "## 5 - Funciones\n",
        "\n",
        " - Son estructuras de código para **operaciones específicas**.\n",
        " - Se escriben **para evitar repeticiones** en el código.\n",
        "\n",
        "\n",
        " - Aportan **claridad y orden** mientras se programa y en sus futuras lecturas. (Bloques)\n",
        " - Su uso puede extenderse a otros problemas, **universalidad**.\n",
        " \n",
        " Los dos últimos puntos requieren un esfuerzo por parte de la persona programadora: nombres claros, comentarios explicativos, dividir un proceso en diferentes funciones más especificas, etc. Siempre con cierto balance entre esfuerzo y claridad.\n",
        " \n",
        " Podemos creas funciones que hagan calculos especificos, *desde simples sumas de dos números hasta procesamiento de texto/imagenes o calculos de simulaciones físicas...*"
      ]
    },
    {
      "cell_type": "code",
      "metadata": {
        "id": "jBtlNwynKgz7",
        "outputId": "ccc37a98-5e7d-45c6-8004-252b1cb38788"
      },
      "source": [
        "def hola_mundo():\n",
        "    print('hola mundo!')\n",
        "\n",
        "hola_mundo()"
      ],
      "execution_count": null,
      "outputs": [
        {
          "output_type": "stream",
          "text": [
            "hola mundo!\n"
          ],
          "name": "stdout"
        }
      ]
    },
    {
      "cell_type": "markdown",
      "metadata": {
        "id": "KAnYL9ECKgz7"
      },
      "source": [
        "### 5.1 - Variables de entrada y salida\n"
      ]
    },
    {
      "cell_type": "code",
      "metadata": {
        "id": "GvZmO_jyKgz8",
        "outputId": "0df20019-9479-435b-b11c-ada0b7080d8c"
      },
      "source": [
        "def print_numeros_entre(a, b):\n",
        "    numero = a\n",
        "    print(f'Imprimiendo numeros entre {a} y {b}')\n",
        "    while numero+1 < b:\n",
        "        numero +=1\n",
        "        print(numero)\n",
        "\n",
        "print_numeros_entre(0,6)"
      ],
      "execution_count": null,
      "outputs": [
        {
          "output_type": "stream",
          "text": [
            "Imprimiendo numeros entre 0 y 6\n",
            "1\n",
            "2\n",
            "3\n",
            "4\n",
            "5\n"
          ],
          "name": "stdout"
        }
      ]
    },
    {
      "cell_type": "markdown",
      "metadata": {
        "id": "jK0ifzckKgz8"
      },
      "source": [
        "Las variables definidas dentro de una función solo se reconocen dentro de la función, son variables **locales**."
      ]
    },
    {
      "cell_type": "markdown",
      "metadata": {
        "id": "R-7yXWtLKgz8"
      },
      "source": [
        "**¿Como harias esto de forma más simple? (con range)**"
      ]
    },
    {
      "cell_type": "code",
      "metadata": {
        "id": "CGtHrwz4Kgz9"
      },
      "source": [
        "def print_numeros_entre(a,b): # a y b son variables de entrada\n",
        "    \n",
        "    # Inicializar lista vacia\n",
        "    numeros_entre_list = [] \n",
        "    \n",
        "    numero = a\n",
        "    while numero+1 < b:\n",
        "        numero +=1\n",
        "        # Añadir numero a la lista\n",
        "        numeros_entre_list.append(numero) \n",
        "    \n",
        "    # Variable a devolver (salida)\n",
        "    return(numeros_entre_list)\n"
      ],
      "execution_count": null,
      "outputs": []
    },
    {
      "cell_type": "code",
      "metadata": {
        "scrolled": true,
        "id": "TFaL9buLKgz9",
        "outputId": "8d318af1-1781-4a72-aa8c-bbe8b2bc5e38"
      },
      "source": [
        "# Llamamos tantas veces como queramos a la función, asignando su salida a una variable\n",
        "lista1 = print_numeros_entre(-6,6)\n",
        "lista2 = print_numeros_entre(100,110)\n",
        "\n",
        "# Imprimimos, para comprobar el resultado y el tipo de variable que devuelve la función\n",
        "print(lista1, type(lista1))\n",
        "print()\n",
        "print(lista2, type(lista2))"
      ],
      "execution_count": null,
      "outputs": [
        {
          "output_type": "stream",
          "text": [
            "[-5, -4, -3, -2, -1, 0, 1, 2, 3, 4, 5] <class 'list'>\n",
            "\n",
            "[101, 102, 103, 104, 105, 106, 107, 108, 109] <class 'list'>\n"
          ],
          "name": "stdout"
        }
      ]
    },
    {
      "cell_type": "markdown",
      "metadata": {
        "id": "7YZUT4ZpKgz9"
      },
      "source": [
        "### 5.2 - Variables de entrada opcionales\n"
      ]
    },
    {
      "cell_type": "markdown",
      "metadata": {
        "id": "g3qafuwLKgz9"
      },
      "source": [
        "**Retomando el ejemplo anterior...**\n"
      ]
    },
    {
      "cell_type": "code",
      "metadata": {
        "id": "-WOgFqGrKgz-"
      },
      "source": [
        "def print_numeros_entre_con_salto(a,b, salto=1): # a y b son variables de entrada, *salto* es una variable de entrada opcional\n",
        "    \n",
        "    # Inicializar lista vacia\n",
        "    numeros_entre_list = [] \n",
        "    \n",
        "    # Iniciar comienzo\n",
        "    numero = a\n",
        "    while numero+1 < b:\n",
        "        # Avanzar un paso\n",
        "        numero += salto\n",
        "        # Añadir numero a la lista\n",
        "        numeros_entre_list.append(numero) \n",
        "    \n",
        "    # Variable a devolver (salida)\n",
        "    return numeros_entre_list # Puede darse sin paréntesis \n"
      ],
      "execution_count": null,
      "outputs": []
    },
    {
      "cell_type": "code",
      "metadata": {
        "id": "ReSVmDa2Kgz-",
        "outputId": "9ce9a61b-2534-42d0-9a7e-c8baf2434234"
      },
      "source": [
        "# Nuevamente... \n",
        "\n",
        "#Llamamos tantas veces como queramos a la función, asignando su salida a una variable\n",
        "lista1 = print_numeros_entre_con_salto(-6,6)\n",
        "lista2 = print_numeros_entre_con_salto(-100, 100, salto=20)\n",
        "\n",
        "# Imprimimos, para comprobar el resultado\n",
        "print(lista1)\n",
        "print()\n",
        "print(lista2)"
      ],
      "execution_count": null,
      "outputs": [
        {
          "output_type": "stream",
          "text": [
            "[-5, -4, -3, -2, -1, 0, 1, 2, 3, 4, 5]\n",
            "\n",
            "[-80, -60, -40, -20, 0, 20, 40, 60, 80, 100]\n"
          ],
          "name": "stdout"
        }
      ]
    },
    {
      "cell_type": "markdown",
      "metadata": {
        "id": "vSatm_AnKgz-"
      },
      "source": [
        "Las variables opcionales siempre van después de variables no opcionales\n",
        "\n",
        "- Ejemplo: \n",
        " -  (a,b,c,..., z=1)    correcto ;)\n",
        " -  (a,b,c,...,y=1,z) incorrecto :(\n",
        " \n"
      ]
    },
    {
      "cell_type": "markdown",
      "metadata": {
        "id": "UdP6Mf7hKgz-"
      },
      "source": [
        "**Listas de listas**\n"
      ]
    },
    {
      "cell_type": "code",
      "metadata": {
        "id": "qDOk6HTIKgz-"
      },
      "source": [
        "def matriz_identidad(n=10):\n",
        "    \n",
        "    # Inicializar lista\n",
        "    matriz = []\n",
        "    \n",
        "    # Avanzar por cada fila\n",
        "    for ii in range(n):\n",
        "        valores_fila = [] #\n",
        "        # Obtener valores de cada columna\n",
        "        for jj in range(n):\n",
        "            if ii == jj:\n",
        "                valores_fila.append(1.0)\n",
        "            else:\n",
        "                valores_fila.append(0.0)\n",
        "        \n",
        "        matriz.append(valores_fila) # *valores_fila* es una lista que añadimos a la lista *matriz*\n",
        "    \n",
        "    # Devolvemos la 'lista de listas'\n",
        "    return(matriz)\n",
        "                "
      ],
      "execution_count": null,
      "outputs": []
    },
    {
      "cell_type": "code",
      "metadata": {
        "id": "qa_KchhRKgz-",
        "outputId": "8a13a1ad-f6b2-44cb-ec19-7b0a2b042896"
      },
      "source": [
        "matriz_identidad(n=10)"
      ],
      "execution_count": null,
      "outputs": [
        {
          "output_type": "execute_result",
          "data": {
            "text/plain": [
              "[[1.0, 0.0, 0.0, 0.0, 0.0, 0.0, 0.0, 0.0, 0.0, 0.0],\n",
              " [0.0, 1.0, 0.0, 0.0, 0.0, 0.0, 0.0, 0.0, 0.0, 0.0],\n",
              " [0.0, 0.0, 1.0, 0.0, 0.0, 0.0, 0.0, 0.0, 0.0, 0.0],\n",
              " [0.0, 0.0, 0.0, 1.0, 0.0, 0.0, 0.0, 0.0, 0.0, 0.0],\n",
              " [0.0, 0.0, 0.0, 0.0, 1.0, 0.0, 0.0, 0.0, 0.0, 0.0],\n",
              " [0.0, 0.0, 0.0, 0.0, 0.0, 1.0, 0.0, 0.0, 0.0, 0.0],\n",
              " [0.0, 0.0, 0.0, 0.0, 0.0, 0.0, 1.0, 0.0, 0.0, 0.0],\n",
              " [0.0, 0.0, 0.0, 0.0, 0.0, 0.0, 0.0, 1.0, 0.0, 0.0],\n",
              " [0.0, 0.0, 0.0, 0.0, 0.0, 0.0, 0.0, 0.0, 1.0, 0.0],\n",
              " [0.0, 0.0, 0.0, 0.0, 0.0, 0.0, 0.0, 0.0, 0.0, 1.0]]"
            ]
          },
          "metadata": {
            "tags": []
          },
          "execution_count": 73
        }
      ]
    },
    {
      "cell_type": "markdown",
      "metadata": {
        "id": "VhNwU9w0Kgz_"
      },
      "source": [
        "**Funciones que llaman a otras funciones**\n"
      ]
    },
    {
      "cell_type": "code",
      "metadata": {
        "id": "KA0YRadLKgz_"
      },
      "source": [
        "def condicion_unidad(tipo_matriz, ii_fila, jj_columna):\n",
        "    # Esta funcion devuelve 'True' si el elemento de fila, columna = ii_fila, jj_columna ha de ser la unidad\n",
        "    #  dependiendo del tipo de matriz que queremos, introducido mediante *tipo_matrix*\n",
        "    \n",
        "    # *tipo_matrix* es una variable de tipo string\n",
        "    #  *ii_fila* y *jj_columna* son variables de tipo entero int, especifican las coordenadas del elemento de la matriz\n",
        "    #  que queremos saber si es nula (devolver False) o no (devolver True)\n",
        "    \n",
        "\n",
        "    # Introducimos las condiciones como hemos visto anteriormente.\n",
        "    if tipo_matriz == 'identidad':\n",
        "        return(ii_fila == jj_columna)\n",
        "    elif tipo_matriz == 'triangular_inferior':\n",
        "        return(ii_fila >= jj_columna)\n",
        "    elif tipo_matriz == 'triangular_superior':\n",
        "        return(ii_fila <= jj_columna)\n",
        "    else:\n",
        "        print('No se ha introducido un *tipo_matriz* válido.')\n",
        "        return(False) # Devolvemos False por defecto\n",
        "    \n",
        "def matriz(tipo='identidad', n=10):\n",
        "    # Esta funcion devuelve una matriz cuadrada de tipo *identidad* y dimension *n*\n",
        "    # Se recorren las filas y columnas rellenandose con unos los valores necesarios,\n",
        "    #  siguiendo la función *condición_unidad*\n",
        "    \n",
        "    # Inicializar lista\n",
        "    matriz = []\n",
        "    \n",
        "    # Avanzar por cada fila\n",
        "    for ii in range(n): # ii va de 0 a  n-1\n",
        "        valores_fila = [] # Inicializar valores de la fila *ii*\n",
        "        \n",
        "        # Obtener valores de cada columna\n",
        "        for jj in range(n):\n",
        "            \n",
        "            # Dejamos el rellenado a cargo de la función *condicion_unidad* mediante este bloque condicional\n",
        "            if condicion_unidad(tipo, ii, jj): \n",
        "                valores_fila.append(1.0)\n",
        "            else:\n",
        "                valores_fila.append(0.0)\n",
        "        matriz.append(valores_fila) # *valores_fila* es una lista que añadimos a la lista *matriz*\n",
        "    \n",
        "    # Devolvemos la 'lista de listas'\n",
        "    return(matriz)"
      ],
      "execution_count": null,
      "outputs": []
    },
    {
      "cell_type": "code",
      "metadata": {
        "id": "5YoepioZKg0A",
        "outputId": "c7ca2d68-45a2-4331-a30d-5863ee080124"
      },
      "source": [
        "matriz(tipo='triangular_inferior', n=6)"
      ],
      "execution_count": null,
      "outputs": [
        {
          "output_type": "execute_result",
          "data": {
            "text/plain": [
              "[[1.0, 0.0, 0.0, 0.0, 0.0, 0.0],\n",
              " [1.0, 1.0, 0.0, 0.0, 0.0, 0.0],\n",
              " [1.0, 1.0, 1.0, 0.0, 0.0, 0.0],\n",
              " [1.0, 1.0, 1.0, 1.0, 0.0, 0.0],\n",
              " [1.0, 1.0, 1.0, 1.0, 1.0, 0.0],\n",
              " [1.0, 1.0, 1.0, 1.0, 1.0, 1.0]]"
            ]
          },
          "metadata": {
            "tags": []
          },
          "execution_count": 75
        }
      ]
    },
    {
      "cell_type": "markdown",
      "metadata": {
        "id": "8U2cfGXyKg0B"
      },
      "source": [
        " - **¿Qué te parece el nombre de la función de condición '*condicion_unidad()*' ? ¿Cómo la llamarias tú?**\n",
        "\n",
        "\n",
        " - **¿Cómo harias una función que tome dos matrices y devuelva su suma?**\n",
        "\n",
        " - **¿Qué pasaría si la función '*condición_unidad()*' estuviera dentro de la función '*matriz*'?**\n",
        "\n"
      ]
    },
    {
      "cell_type": "markdown",
      "metadata": {
        "id": "YTzPcWTVKg0C"
      },
      "source": [
        "### 5.3 - Recursividad"
      ]
    },
    {
      "cell_type": "code",
      "metadata": {
        "id": "lVMJKvH5Kg0C",
        "outputId": "059367f7-477b-4a90-d096-06155d747a92"
      },
      "source": [
        "def factorial(n):\n",
        "    if n == 1:\n",
        "        return(1)\n",
        "    else:\n",
        "        return(n*factorial(n-1)) # La salida requiere de una llamada de la misma función\n",
        "    \n",
        "factorial(7)"
      ],
      "execution_count": null,
      "outputs": [
        {
          "output_type": "execute_result",
          "data": {
            "text/plain": [
              "5040"
            ]
          },
          "metadata": {
            "tags": []
          },
          "execution_count": 76
        }
      ]
    },
    {
      "cell_type": "markdown",
      "metadata": {
        "id": "jU74FlXBKg0C"
      },
      "source": [
        "*Nota:* Como **return** finaliza la función podemos obviar el **else**."
      ]
    },
    {
      "cell_type": "code",
      "metadata": {
        "id": "yovaqXecKg0D",
        "outputId": "2c484f29-250e-4c87-9b5c-79c58493dfe5"
      },
      "source": [
        "def factorial(n):\n",
        "    if n == 1: return(1) # Ifs permiten la escritura en una sola linea\n",
        "    return(n*factorial(n-1)) # La salida requiere de una llamada de la misma función\n",
        "    \n",
        "factorial(7)"
      ],
      "execution_count": null,
      "outputs": [
        {
          "output_type": "execute_result",
          "data": {
            "text/plain": [
              "5040"
            ]
          },
          "metadata": {
            "tags": []
          },
          "execution_count": 77
        }
      ]
    },
    {
      "cell_type": "markdown",
      "metadata": {
        "id": "6K3hFAh8Kg0D"
      },
      "source": [
        "### 5.4 - \\*args y \\*\\*kwargs\n",
        "\n",
        "Son variables opcionales sin nombre asociado.\n",
        "\n",
        "- **\\* args (arguments)** es una variable iterable: los valores se acceden mediante la posición del elemento. (ejemplo: lista, tuple)\n",
        "\n",
        "- **\\*\\* kargs (key arguments)** es un diccionario con *key:value* arbitrarias para la llamada de la función.\n"
      ]
    },
    {
      "cell_type": "code",
      "metadata": {
        "id": "72mR4iHoKg0D",
        "outputId": "8ccb9ea3-0381-4a16-e0db-010a23791a0c"
      },
      "source": [
        "def invitados_a_la_fiezta(titulo_str, *invitados):\n",
        "    \n",
        "    print( '-'*30 + '\\n\\t'+ titulo_str + '\\n' + '-'*30)\n",
        "    for numero_invitado in range(len(invitados)):\n",
        "            print(numero_invitado+1, invitados[numero_invitado])\n",
        "    print('-'*30)\n",
        "    \n",
        "    # Añadimos un texto tan solo en el caso de que un invitado, 'Barney', asistirá a la fiesta\n",
        "    if 'Barney' in invitados:\n",
        "        print('\\n\\t¡Ponte traje!\\n')\n",
        "\n",
        "    \n",
        "lista_invitados = ['Lily', 'Ted', 'Barney', 'Marshall', 'Robin']\n",
        "invitados_a_la_fiezta('Lista de invitados',*lista_invitados)"
      ],
      "execution_count": null,
      "outputs": [
        {
          "output_type": "stream",
          "text": [
            "------------------------------\n",
            "\tLista de invitados\n",
            "------------------------------\n",
            "1 Lily\n",
            "2 Ted\n",
            "3 Barney\n",
            "4 Marshall\n",
            "5 Robin\n",
            "------------------------------\n",
            "\n",
            "\t¡Ponte traje!\n",
            "\n"
          ],
          "name": "stdout"
        }
      ]
    },
    {
      "cell_type": "code",
      "metadata": {
        "id": "k4q96QZKKg0E",
        "outputId": "1223cd71-d987-4cfb-f9dc-307948047183"
      },
      "source": [
        "invitados_a_la_fiezta('Lista de invitados', 'Mikel', 'Juan', 'Leire')"
      ],
      "execution_count": null,
      "outputs": [
        {
          "output_type": "stream",
          "text": [
            "------------------------------\n",
            "\tLista de invitados\n",
            "------------------------------\n",
            "1 Mikel\n",
            "2 Juan\n",
            "3 Leire\n",
            "------------------------------\n"
          ],
          "name": "stdout"
        }
      ]
    },
    {
      "cell_type": "code",
      "metadata": {
        "id": "Lvhc19QqKg0F",
        "outputId": "519409d3-1701-4005-a17e-1f3ad3c2178f"
      },
      "source": [
        "# Probamos a no pasar *args\n",
        "invitados_a_la_fiezta('Fiesta de Hawking')"
      ],
      "execution_count": null,
      "outputs": [
        {
          "output_type": "stream",
          "text": [
            "------------------------------\n",
            "\tFiesta de Hawking\n",
            "------------------------------\n",
            "------------------------------\n"
          ],
          "name": "stdout"
        }
      ]
    },
    {
      "cell_type": "code",
      "metadata": {
        "id": "gOYHTkeBKg0F",
        "outputId": "af08c0fc-7634-42fd-a0fe-e02695752c27"
      },
      "source": [
        "def lista_invitados(titulo_str, **invitados_encargo):\n",
        "    \n",
        "    print( '-'*50 + '\\n\\t Lista de invitados y encargo \\n' + '-'*50)\n",
        "    numero_invitado = 1\n",
        "    for invitado, encargo in invitados_encargo.items():\n",
        "            print(numero_invitado,'-', invitado,'\\t', encargo)\n",
        "            numero_invitado += 1\n",
        "    \n",
        "    # Comprobamos si algún invitado traerá bebida (para esto comprobamos en los valores del diccionario asociado a los **kwargs)\n",
        "    if 'Bebida' in invitados_encargo.values():\n",
        "        print('\\n   ¡Va a ser... \\n\\t                    ... LEGENDARIO !\\n')\n",
        "\n",
        "    print('-'*50)\n",
        "    \n",
        "invitados_encargo = {'Lily': 'Tarta', 'Ted': 'Bebida', 'Barney': 'Nada', 'Marshall': 'Juegos de mesa', 'Robin': 'Sticks'}\n",
        "lista_invitados('Lista de invitados y encargo',**invitados_encargo)"
      ],
      "execution_count": null,
      "outputs": [
        {
          "output_type": "stream",
          "text": [
            "--------------------------------------------------\n",
            "\t Lista de invitados y encargo \n",
            "--------------------------------------------------\n",
            "1 - Lily \t Tarta\n",
            "2 - Ted \t Bebida\n",
            "3 - Barney \t Nada\n",
            "4 - Marshall \t Juegos de mesa\n",
            "5 - Robin \t Sticks\n",
            "\n",
            "   ¡Va a ser... \n",
            "\t                    ... LEGENDARIO !\n",
            "\n",
            "--------------------------------------------------\n"
          ],
          "name": "stdout"
        }
      ]
    },
    {
      "cell_type": "code",
      "metadata": {
        "id": "xasdLybZKg0G",
        "outputId": "477b161b-4a1d-4fe6-8d13-95bdb86bb615"
      },
      "source": [
        "lista_invitados('Lista de invitados y encargo', Lily='Tarta', Ted='Refrescos', Barney='Nada', Marshall='Juegos de mesa')"
      ],
      "execution_count": null,
      "outputs": [
        {
          "output_type": "stream",
          "text": [
            "--------------------------------------------------\n",
            "\t Lista de invitados y encargo \n",
            "--------------------------------------------------\n",
            "1 - Lily \t Tarta\n",
            "2 - Ted \t Refrescos\n",
            "3 - Barney \t Nada\n",
            "4 - Marshall \t Juegos de mesa\n",
            "--------------------------------------------------\n"
          ],
          "name": "stdout"
        }
      ]
    },
    {
      "cell_type": "markdown",
      "metadata": {
        "id": "BKjDmloYKg0G"
      },
      "source": [
        "# Resumen\n",
        "\n",
        "Hemos visto:\n",
        "\n",
        "- Dos diferentes **modos de programar**: \n",
        " - *Interprete*: Consiste en introducir unos ordenes sobre la marcha\n",
        " - *Compilador*: Consiste en introducir un código estructurado que será comprobado, y ejecutado secuencialmente en caso de no tener errores de escritura. Es éste el que nos interesa.\n",
        "- **Variables**\n",
        " - 4 tipos básicos: *int, float, string, boolean*\n",
        " - 3 compuestas principales: *list, tuple, dict* (Podeís mirarlo [aquí](https://docs.python.org/3/tutorial/datastructures.html))\n",
        "- **Condicionales**\n",
        " - *if, elif* y *else*\n",
        " - Su uso con condiciones definidas por operadores de condición (==, !=, >=, <=, ...)\n",
        "- **Ciclos**\n",
        " - **for** y su uso con **range()**\n",
        " - **while** y su uso con condiciones definidas por operadores de condición (==, !=, >=, <=, ...)\n",
        " - Como cambiar el curso de un ciclo mediante las ordenes **break**, **continue**\n",
        "- **Funciones**\n",
        " - Variables de **entrada** y de **salida**.\n",
        " - **Variables opcionales**\n",
        " - **Variables adicionales *args y** ****kwargs**, nombre de variable no necesariamente conocido\n",
        "- **Imprimir**\n",
        " - Formateado para impresión de diferentes variables"
      ]
    },
    {
      "cell_type": "markdown",
      "metadata": {
        "id": "0cNTX8VsKg0G"
      },
      "source": [
        "# Ejercicio de ejemplo final\n",
        "\n",
        "Retomamos el ejemplo del cine Golem de la Alhondiga de Bilbao. \n",
        "\n",
        "Ahora, en vez de añadir manualmente los asientos, utilizaremos ciclos \n",
        "que iteren sobre las filas y columnas de los asientos del cine. Guardaremos\n",
        " la disponibilidad como valor de un diccionario, de forma tal que pueda ser modificada."
      ]
    },
    {
      "cell_type": "code",
      "metadata": {
        "id": "RSO2i4_FKg0G"
      },
      "source": [
        " # Creamos una tupla a partir del rango para las filas (1,2,3,...,8)\n",
        "filas = tuple(range(1,9))\n",
        "\n",
        "# Creamos una tupla para las columnas\n",
        "columnas = ('A', 'B', 'C', 'D', 'E') \n",
        "\n",
        "# Inicializamos el diccionario en el que almacenaremos los asientos y su estado\n",
        "asientos_cine = {} \n",
        "\n",
        "# Recorremos todas las filas\n",
        "for ii_fila in filas:\n",
        "    # Recorremos todas las columnas para la fila *ii_fila**\n",
        "    for jj_columna in columnas:\n",
        "        \n",
        "        # Creamos un elemento en el diccionario con la tupla (fila, columna) como key\n",
        "        #   y el estado 'Libre' como value\n",
        "        asientos_cine[(ii_fila, jj_columna)] = 'Libre'\n"
      ],
      "execution_count": null,
      "outputs": []
    },
    {
      "cell_type": "markdown",
      "metadata": {
        "id": "xtClTzk9Kg0H"
      },
      "source": [
        "Ahora imprimimos el estado de cada asiento mediante otro ciclo **for**"
      ]
    },
    {
      "cell_type": "code",
      "metadata": {
        "id": "p89N6IWyKg0I",
        "outputId": "80045494-57a6-4f97-d857-afab19da56ca"
      },
      "source": [
        "if asientos_cine[(4,'B')] == 'Libre':\n",
        "    print('Ocupamos el asiento ', (4,'B'))\n",
        "    asientos_cine[(4,'B')] = 'Ocupado'\n",
        "else:\n",
        "    print('El asiento ', (4,'B'), 'está ocupado.')"
      ],
      "execution_count": null,
      "outputs": [
        {
          "output_type": "stream",
          "text": [
            "Ocupamos el asiento  (4, 'B')\n"
          ],
          "name": "stdout"
        }
      ]
    },
    {
      "cell_type": "markdown",
      "metadata": {
        "id": "oApq-r0YKg0I"
      },
      "source": [
        "Ahora imprimimos el estado de cada asiento mediante otro ciclo **for**"
      ]
    },
    {
      "cell_type": "code",
      "metadata": {
        "id": "CrEtKKu9Kg0J",
        "outputId": "c0031a7f-c500-42d2-acbe-9c1df9b7df39"
      },
      "source": [
        "for asiento, estado in asientos_cine.items(): \n",
        "    # Recorremos los asientos (fila, columna) y su estado, es decir, \n",
        "    #  la llave(key) y valor (value) del diccionario con el método .items()\n",
        "    \n",
        "    # Imprimimos con formato          fila                     columna\n",
        "    print(f'Asiento de la fila \\'{asiento[0]}\\' y columna \\'{asiento[1]}\\' \\t -> \\t {estado}')"
      ],
      "execution_count": null,
      "outputs": [
        {
          "output_type": "stream",
          "text": [
            "Asiento de la fila '1' y columna 'A' \t -> \t Libre\n",
            "Asiento de la fila '1' y columna 'B' \t -> \t Libre\n",
            "Asiento de la fila '1' y columna 'C' \t -> \t Libre\n",
            "Asiento de la fila '1' y columna 'D' \t -> \t Libre\n",
            "Asiento de la fila '1' y columna 'E' \t -> \t Libre\n",
            "Asiento de la fila '2' y columna 'A' \t -> \t Libre\n",
            "Asiento de la fila '2' y columna 'B' \t -> \t Libre\n",
            "Asiento de la fila '2' y columna 'C' \t -> \t Libre\n",
            "Asiento de la fila '2' y columna 'D' \t -> \t Libre\n",
            "Asiento de la fila '2' y columna 'E' \t -> \t Libre\n",
            "Asiento de la fila '3' y columna 'A' \t -> \t Libre\n",
            "Asiento de la fila '3' y columna 'B' \t -> \t Libre\n",
            "Asiento de la fila '3' y columna 'C' \t -> \t Libre\n",
            "Asiento de la fila '3' y columna 'D' \t -> \t Libre\n",
            "Asiento de la fila '3' y columna 'E' \t -> \t Libre\n",
            "Asiento de la fila '4' y columna 'A' \t -> \t Libre\n",
            "Asiento de la fila '4' y columna 'B' \t -> \t Ocupado\n",
            "Asiento de la fila '4' y columna 'C' \t -> \t Libre\n",
            "Asiento de la fila '4' y columna 'D' \t -> \t Libre\n",
            "Asiento de la fila '4' y columna 'E' \t -> \t Libre\n",
            "Asiento de la fila '5' y columna 'A' \t -> \t Libre\n",
            "Asiento de la fila '5' y columna 'B' \t -> \t Libre\n",
            "Asiento de la fila '5' y columna 'C' \t -> \t Libre\n",
            "Asiento de la fila '5' y columna 'D' \t -> \t Libre\n",
            "Asiento de la fila '5' y columna 'E' \t -> \t Libre\n",
            "Asiento de la fila '6' y columna 'A' \t -> \t Libre\n",
            "Asiento de la fila '6' y columna 'B' \t -> \t Libre\n",
            "Asiento de la fila '6' y columna 'C' \t -> \t Libre\n",
            "Asiento de la fila '6' y columna 'D' \t -> \t Libre\n",
            "Asiento de la fila '6' y columna 'E' \t -> \t Libre\n",
            "Asiento de la fila '7' y columna 'A' \t -> \t Libre\n",
            "Asiento de la fila '7' y columna 'B' \t -> \t Libre\n",
            "Asiento de la fila '7' y columna 'C' \t -> \t Libre\n",
            "Asiento de la fila '7' y columna 'D' \t -> \t Libre\n",
            "Asiento de la fila '7' y columna 'E' \t -> \t Libre\n",
            "Asiento de la fila '8' y columna 'A' \t -> \t Libre\n",
            "Asiento de la fila '8' y columna 'B' \t -> \t Libre\n",
            "Asiento de la fila '8' y columna 'C' \t -> \t Libre\n",
            "Asiento de la fila '8' y columna 'D' \t -> \t Libre\n",
            "Asiento de la fila '8' y columna 'E' \t -> \t Libre\n"
          ],
          "name": "stdout"
        }
      ]
    },
    {
      "cell_type": "markdown",
      "metadata": {
        "id": "adIwXdPTKg0J"
      },
      "source": [
        "**¿Qué pasa si utilizamos listas [4,'B'] como key en el diccionario de los asientos de cine?** <details>\n",
        "<summary> ->Esto:</summary>\n",
        "Nos devolverá error, puesto que las listas son mutables. Los key de los diccionarios deben ser inmutables.\n",
        "</details>\n",
        "\n",
        "**¿Cómo extenderías estos procesos que hemos seguido para la gestión de más salas del cine?**\n",
        "\n",
        "**¿Utilizarias una, o más funciones?**\n",
        "\n",
        "Golem necesita tu ayuda!"
      ]
    }
  ]
}