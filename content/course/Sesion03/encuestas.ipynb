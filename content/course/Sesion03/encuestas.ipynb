{
 "metadata": {
  "language_info": {
   "codemirror_mode": {
    "name": "ipython",
    "version": 3
   },
   "file_extension": ".py",
   "mimetype": "text/x-python",
   "name": "python",
   "nbconvert_exporter": "python",
   "pygments_lexer": "ipython3",
   "version": "3.7.6-final"
  },
  "orig_nbformat": 2,
  "kernelspec": {
   "name": "Python 3.7.6 64-bit (conda)",
   "display_name": "Python 3.7.6 64-bit (conda)",
   "metadata": {
    "interpreter": {
     "hash": "cc5036801adc4e0048041d324a90088af803a7258427b7de46f904b1c9157750"
    }
   }
  }
 },
 "nbformat": 4,
 "nbformat_minor": 2,
 "cells": [
  {
   "cell_type": "code",
   "execution_count": 5,
   "metadata": {},
   "outputs": [],
   "source": [
    "import os\n",
    "import pandas as pd\n",
    "import matplotlib.pyplot as plt"
   ]
  },
  {
   "cell_type": "code",
   "execution_count": 2,
   "metadata": {},
   "outputs": [],
   "source": [
    "data = pd.read_excel(\"./Encuestas/Encuesta 1.xlsx\", header=2)"
   ]
  },
  {
   "cell_type": "code",
   "execution_count": 3,
   "metadata": {},
   "outputs": [
    {
     "output_type": "execute_result",
     "data": {
      "text/plain": [
       "                                            Preguntas       Respuestas\n",
       "1                        Universidad de matriculación          UPV/EHU\n",
       "2                                 Titulación de grado  Otra ingeniería\n",
       "3                                   ¿Conocias Python?               SI\n",
       "4   ¿Cuál de los siguientes lenguajes de programac...              NaN\n",
       "5                                              Matlab               SI\n",
       "6                                             Fortran               NO\n",
       "7                                                   C               SI\n",
       "8                                                Java               NO\n",
       "9   ¿Qué te parece la herramienta de entorno Jupyt...        Muy Buena\n",
       "10  Valora del 0 (mínima) 5 (máxima) los siguiente...              NaN\n",
       "11  Facilidad de puesta en marcha de las herramien...                4\n",
       "12  Facilidad de compresión de las primeras 2 sesi...                5\n",
       "13              Tu nivel de implicación con el curso                 3"
      ],
      "text/html": "<div>\n<style scoped>\n    .dataframe tbody tr th:only-of-type {\n        vertical-align: middle;\n    }\n\n    .dataframe tbody tr th {\n        vertical-align: top;\n    }\n\n    .dataframe thead th {\n        text-align: right;\n    }\n</style>\n<table border=\"1\" class=\"dataframe\">\n  <thead>\n    <tr style=\"text-align: right;\">\n      <th></th>\n      <th>Preguntas</th>\n      <th>Respuestas</th>\n    </tr>\n  </thead>\n  <tbody>\n    <tr>\n      <th>1</th>\n      <td>Universidad de matriculación</td>\n      <td>UPV/EHU</td>\n    </tr>\n    <tr>\n      <th>2</th>\n      <td>Titulación de grado</td>\n      <td>Otra ingeniería</td>\n    </tr>\n    <tr>\n      <th>3</th>\n      <td>¿Conocias Python?</td>\n      <td>SI</td>\n    </tr>\n    <tr>\n      <th>4</th>\n      <td>¿Cuál de los siguientes lenguajes de programac...</td>\n      <td>NaN</td>\n    </tr>\n    <tr>\n      <th>5</th>\n      <td>Matlab</td>\n      <td>SI</td>\n    </tr>\n    <tr>\n      <th>6</th>\n      <td>Fortran</td>\n      <td>NO</td>\n    </tr>\n    <tr>\n      <th>7</th>\n      <td>C</td>\n      <td>SI</td>\n    </tr>\n    <tr>\n      <th>8</th>\n      <td>Java</td>\n      <td>NO</td>\n    </tr>\n    <tr>\n      <th>9</th>\n      <td>¿Qué te parece la herramienta de entorno Jupyt...</td>\n      <td>Muy Buena</td>\n    </tr>\n    <tr>\n      <th>10</th>\n      <td>Valora del 0 (mínima) 5 (máxima) los siguiente...</td>\n      <td>NaN</td>\n    </tr>\n    <tr>\n      <th>11</th>\n      <td>Facilidad de puesta en marcha de las herramien...</td>\n      <td>4</td>\n    </tr>\n    <tr>\n      <th>12</th>\n      <td>Facilidad de compresión de las primeras 2 sesi...</td>\n      <td>5</td>\n    </tr>\n    <tr>\n      <th>13</th>\n      <td>Tu nivel de implicación con el curso</td>\n      <td>3</td>\n    </tr>\n  </tbody>\n</table>\n</div>"
     },
     "metadata": {},
     "execution_count": 3
    }
   ],
   "source": [
    "generales = data.loc[1:13, ['Preguntas', 'Respuestas']]\n",
    "generales"
   ]
  },
  {
   "cell_type": "code",
   "execution_count": 4,
   "metadata": {},
   "outputs": [
    {
     "output_type": "execute_result",
     "data": {
      "text/plain": [
       "                                            Preguntas  \\\n",
       "16  ¿Qué aspectos de - Python/análisis de datos - ...   \n",
       "17    ¿Qué aspectos te gustaría tratar en este curso?   \n",
       "18          Aspectos que quieras resaltar o comentar.   \n",
       "19       Recomendaciones para las siguientes sesiones   \n",
       "20                                        Sugerencias   \n",
       "\n",
       "                                           Respuestas  \n",
       "16  Igual no es el alcance del curso, pero estaría...  \n",
       "17  Me gustaría ves casos reales de analisis de da...  \n",
       "18                                                NaN  \n",
       "19  Si pasais el notebook antes de la sesion es ma...  \n",
       "20  La pantalla se ve un poco pequeña en el colab,...  "
      ],
      "text/html": "<div>\n<style scoped>\n    .dataframe tbody tr th:only-of-type {\n        vertical-align: middle;\n    }\n\n    .dataframe tbody tr th {\n        vertical-align: top;\n    }\n\n    .dataframe thead th {\n        text-align: right;\n    }\n</style>\n<table border=\"1\" class=\"dataframe\">\n  <thead>\n    <tr style=\"text-align: right;\">\n      <th></th>\n      <th>Preguntas</th>\n      <th>Respuestas</th>\n    </tr>\n  </thead>\n  <tbody>\n    <tr>\n      <th>16</th>\n      <td>¿Qué aspectos de - Python/análisis de datos - ...</td>\n      <td>Igual no es el alcance del curso, pero estaría...</td>\n    </tr>\n    <tr>\n      <th>17</th>\n      <td>¿Qué aspectos te gustaría tratar en este curso?</td>\n      <td>Me gustaría ves casos reales de analisis de da...</td>\n    </tr>\n    <tr>\n      <th>18</th>\n      <td>Aspectos que quieras resaltar o comentar.</td>\n      <td>NaN</td>\n    </tr>\n    <tr>\n      <th>19</th>\n      <td>Recomendaciones para las siguientes sesiones</td>\n      <td>Si pasais el notebook antes de la sesion es ma...</td>\n    </tr>\n    <tr>\n      <th>20</th>\n      <td>Sugerencias</td>\n      <td>La pantalla se ve un poco pequeña en el colab,...</td>\n    </tr>\n  </tbody>\n</table>\n</div>"
     },
     "metadata": {},
     "execution_count": 4
    }
   ],
   "source": [
    "libres = data.loc[16:20, ['Preguntas', 'Respuestas']]\n",
    "libres"
   ]
  },
  {
   "cell_type": "code",
   "execution_count": null,
   "metadata": {},
   "outputs": [],
   "source": []
  }
 ]
}