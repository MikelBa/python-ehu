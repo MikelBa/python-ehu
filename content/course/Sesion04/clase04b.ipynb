{
 "metadata": {
  "language_info": {
   "codemirror_mode": {
    "name": "ipython",
    "version": 3
   },
   "file_extension": ".py",
   "mimetype": "text/x-python",
   "name": "python",
   "nbconvert_exporter": "python",
   "pygments_lexer": "ipython3",
   "version": "3.7.6-final"
  },
  "orig_nbformat": 2,
  "kernelspec": {
   "name": "Python 3.7.6 64-bit ('base': conda)",
   "display_name": "Python 3.7.6 64-bit ('base': conda)",
   "metadata": {
    "interpreter": {
     "hash": "cc5036801adc4e0048041d324a90088af803a7258427b7de46f904b1c9157750"
    }
   }
  }
 },
 "nbformat": 4,
 "nbformat_minor": 2,
 "cells": [
  {
   "source": [
    "# Ficheros Input/Output"
   ],
   "cell_type": "markdown",
   "metadata": {}
  },
  {
   "source": [
    "* Ficehros de entrada y salida. \n",
    "* Tratar las técnicas para manipular nombres de archivos y directorios.\n",
    "* Excepciones para controlar los errores."
   ],
   "cell_type": "markdown",
   "metadata": {}
  },
  {
   "source": [
    "Para abrir un archivo usaremos la función `open()`. Hay dos formas de usar la función:"
   ],
   "cell_type": "markdown",
   "metadata": {}
  },
  {
   "cell_type": "code",
   "execution_count": 1,
   "metadata": {},
   "outputs": [],
   "source": [
    "nombre = \"Juan\"\n",
    "edad = 22\n",
    "\n",
    "with open(\"texto.txt\", \"w\", ) as f:\n",
    "    f.write(f\"Mi nombre es {nombre} y tengo {edad} años\")\n",
    "f.close()"
   ]
  },
  {
   "cell_type": "code",
   "execution_count": 2,
   "metadata": {},
   "outputs": [],
   "source": [
    "nombre = \"Ana\"\n",
    "edad = 23\n",
    "\n",
    "f = open(\"texto.txt\", \"a\")\n",
    "f.write(f\"\\nMi nombre es {nombre} y tengo {edad} años\")\n",
    "f.close()"
   ]
  },
  {
   "source": [
    "Estamos pasandole dos argumentos a la función `open()`. El primer argumento es una cadena que contiene el nombre del fichero. El segundo argumento es otra cadena que contiene unos pocos caracteres describiendo la forma en que el fichero será usado. mode puede ser `'r'` cuando el fichero solo se leerá, `'w'` para solo escritura (un fichero existente con el mismo nombre se borrará) y `'a'` abre el fichero para agregar.; cualquier dato que se escribe en el fichero se añade automáticamente al final. `'r+'` abre el fichero tanto para lectura como para escritura. El argumento mode es opcional; se asume que se usará `'r'` si se omite. \n",
    "\n",
    "Además de esos dos argumentos, también le podemos pasar otros argumentos importantes como `encoding` por ejemplo.\n",
    "\n",
    "Al usar el primer método, no tenemos porque cerrar el archivo expicitamente porque con el `with` Python se encarga de cerrarlo. En cambio, si usamos el segundo método tenemos que cerrarlo nosotros con el método `close()`.\n",
    "\n",
    "Con el método `write` hemos añadido el texto al fichero que hemos abierto con un modo que nos permite escribir en el."
   ],
   "cell_type": "markdown",
   "metadata": {}
  },
  {
   "source": [
    "Para leer el contenido del archivo usamos el método `read()`."
   ],
   "cell_type": "markdown",
   "metadata": {}
  },
  {
   "cell_type": "code",
   "execution_count": 3,
   "metadata": {},
   "outputs": [
    {
     "output_type": "execute_result",
     "data": {
      "text/plain": [
       "'Mi nombre '"
      ]
     },
     "metadata": {},
     "execution_count": 3
    }
   ],
   "source": [
    "f = open(\"texto.txt\")\n",
    "text = f.read(10)\n",
    "text"
   ]
  },
  {
   "cell_type": "code",
   "execution_count": 4,
   "metadata": {},
   "outputs": [
    {
     "output_type": "execute_result",
     "data": {
      "text/plain": [
       "'es Juan y tengo 22 a'"
      ]
     },
     "metadata": {},
     "execution_count": 4
    }
   ],
   "source": [
    "text = f.read(20)\n",
    "text"
   ]
  },
  {
   "cell_type": "code",
   "execution_count": 5,
   "metadata": {},
   "outputs": [],
   "source": [
    "f.close()"
   ]
  },
  {
   "cell_type": "code",
   "execution_count": 6,
   "metadata": {},
   "outputs": [
    {
     "output_type": "execute_result",
     "data": {
      "text/plain": [
       "'Mi nombre es Juan y tengo 22 años\\nMi nombre es Ana y tengo 23 años'"
      ]
     },
     "metadata": {},
     "execution_count": 6
    }
   ],
   "source": [
    "f = open(\"texto.txt\")\n",
    "text = f.read()\n",
    "f.close()\n",
    "text"
   ]
  },
  {
   "cell_type": "code",
   "execution_count": 7,
   "metadata": {},
   "outputs": [
    {
     "output_type": "stream",
     "name": "stdout",
     "text": [
      "Mi nombre es Juan y tengo 22 años\nMi nombre es Ana y tengo 23 años\n"
     ]
    }
   ],
   "source": [
    "print(text)"
   ]
  },
  {
   "source": [
    "Podemos ir linea por linea con un `for` o con el método `readline()`."
   ],
   "cell_type": "markdown",
   "metadata": {}
  },
  {
   "cell_type": "code",
   "execution_count": 8,
   "metadata": {},
   "outputs": [
    {
     "output_type": "stream",
     "name": "stdout",
     "text": [
      "1ª linea: Mi nombre es Juan y tengo 22 años\n\n2ª linea: Mi nombre es Ana y tengo 23 años\n"
     ]
    }
   ],
   "source": [
    "f = open(\"texto.txt\")\n",
    "for i, line in enumerate(f):\n",
    "    print(f\"{i+1}ª linea: {line}\")\n",
    "f.close()"
   ]
  },
  {
   "cell_type": "code",
   "execution_count": 9,
   "metadata": {},
   "outputs": [
    {
     "output_type": "execute_result",
     "data": {
      "text/plain": [
       "'Mi nombre es Juan y tengo 22 años\\n'"
      ]
     },
     "metadata": {},
     "execution_count": 9
    }
   ],
   "source": [
    "f = open(\"texto.txt\")\n",
    "f.readline()"
   ]
  },
  {
   "cell_type": "code",
   "execution_count": 10,
   "metadata": {},
   "outputs": [
    {
     "output_type": "execute_result",
     "data": {
      "text/plain": [
       "'Mi nombre es Ana y tengo 23 años'"
      ]
     },
     "metadata": {},
     "execution_count": 10
    }
   ],
   "source": [
    "f.readline()"
   ]
  },
  {
   "cell_type": "code",
   "execution_count": 11,
   "metadata": {},
   "outputs": [],
   "source": [
    "f.close()"
   ]
  },
  {
   "source": [
    "## Nombres de archivos y directorios\n",
    "\n",
    "Tenemos dos módulos para trabajar con los nombres de archivos y directorios:\n",
    "* `os`\n",
    "* `pathlib`"
   ],
   "cell_type": "markdown",
   "metadata": {}
  },
  {
   "source": [
    "import os\n",
    "from pathlib import Path"
   ],
   "cell_type": "code",
   "metadata": {},
   "execution_count": 12,
   "outputs": []
  },
  {
   "source": [
    "Devolver el directorio actual:"
   ],
   "cell_type": "markdown",
   "metadata": {}
  },
  {
   "cell_type": "code",
   "execution_count": 13,
   "metadata": {},
   "outputs": [
    {
     "output_type": "execute_result",
     "data": {
      "text/plain": [
       "'c:\\\\Users\\\\109853\\\\Desktop\\\\curso-de-python-mimec\\\\Sesion 04'"
      ]
     },
     "metadata": {},
     "execution_count": 13
    }
   ],
   "source": [
    "os.getcwd()"
   ]
  },
  {
   "cell_type": "code",
   "execution_count": 14,
   "metadata": {},
   "outputs": [
    {
     "output_type": "execute_result",
     "data": {
      "text/plain": [
       "WindowsPath('c:/Users/109853/Desktop/curso-de-python-mimec/Sesion 04')"
      ]
     },
     "metadata": {},
     "execution_count": 14
    }
   ],
   "source": [
    "Path.cwd()"
   ]
  },
  {
   "source": [
    "Ver que elementos hay en un directorio:"
   ],
   "cell_type": "markdown",
   "metadata": {}
  },
  {
   "cell_type": "code",
   "execution_count": 15,
   "metadata": {},
   "outputs": [
    {
     "output_type": "execute_result",
     "data": {
      "text/plain": [
       "['clase04.ipynb', 'clase04b.ipynb', 'texto.txt', 'textos']"
      ]
     },
     "metadata": {},
     "execution_count": 15
    }
   ],
   "source": [
    "os.listdir()"
   ]
  },
  {
   "source": [
    "## Excepciones en Python\n",
    "\n",
    "Python tiene excepciones definidas ya de por si (https://docs.python.org/es/3.7/library/exceptions.html#bltin-exceptions):"
   ],
   "cell_type": "markdown",
   "metadata": {}
  },
  {
   "cell_type": "code",
   "execution_count": 17,
   "metadata": {},
   "outputs": [
    {
     "output_type": "error",
     "ename": "ZeroDivisionError",
     "evalue": "division by zero",
     "traceback": [
      "\u001b[1;31m---------------------------------------------------------------------------\u001b[0m",
      "\u001b[1;31mZeroDivisionError\u001b[0m                         Traceback (most recent call last)",
      "\u001b[1;32m<ipython-input-17-e8326a161779>\u001b[0m in \u001b[0;36m<module>\u001b[1;34m\u001b[0m\n\u001b[1;32m----> 1\u001b[1;33m \u001b[1;36m2\u001b[0m\u001b[1;33m/\u001b[0m\u001b[1;36m0\u001b[0m\u001b[1;33m\u001b[0m\u001b[1;33m\u001b[0m\u001b[0m\n\u001b[0m",
      "\u001b[1;31mZeroDivisionError\u001b[0m: division by zero"
     ]
    }
   ],
   "source": [
    "2/0"
   ]
  },
  {
   "source": [
    "Podemos gestionar las excepciones:"
   ],
   "cell_type": "markdown",
   "metadata": {}
  },
  {
   "cell_type": "code",
   "execution_count": 28,
   "metadata": {
    "tags": []
   },
   "outputs": [
    {
     "output_type": "stream",
     "name": "stdout",
     "text": [
      "Tu número entero es : 2\n"
     ]
    }
   ],
   "source": [
    "while True:\n",
    "    try:\n",
    "        n = int(input(\"Elige un número entero: \"))\n",
    "        print(f\"Tu número entero es : {n}\")\n",
    "        break\n",
    "    except ValueError:\n",
    "        print(\"Vuelve a intentarlo...\")\n",
    "    except KeyboardInterrupt:\n",
    "        print(\"Saliendo...\")\n",
    "        break"
   ]
  },
  {
   "source": [
    "Podemos definir exceciones propias también:"
   ],
   "cell_type": "markdown",
   "metadata": {}
  },
  {
   "cell_type": "code",
   "execution_count": 30,
   "metadata": {},
   "outputs": [],
   "source": [
    "class Error(Exception):\n",
    "    \"\"\"Base class for other exceptions\"\"\"\n",
    "    pass\n",
    "\n",
    "\n",
    "class ValueTooSmallError(Error):\n",
    "    \"\"\"Raised when the input value is too small\"\"\"\n",
    "    pass\n",
    "\n",
    "\n",
    "class ValueTooLargeError(Error):\n",
    "    \"\"\"Raised when the input value is too large\"\"\"\n",
    "    pass"
   ]
  },
  {
   "cell_type": "code",
   "execution_count": null,
   "metadata": {},
   "outputs": [],
   "source": [
    "# numero que quermos predecir\n",
    "number = 10\n",
    "\n",
    "# el usuario dice un numero y le decimos si el nuestro es mayor o menor para que lo intente adivinar\n",
    "while True:\n",
    "    try:\n",
    "        i_num = int(input(\"Enter a number: \"))\n",
    "        if i_num < number:\n",
    "            raise ValueTooSmallError\n",
    "        elif i_num > number:\n",
    "            raise ValueTooLargeError\n",
    "        break\n",
    "    except ValueTooSmallError:\n",
    "        print(\"This value is too small, try again!\")\n",
    "        print()\n",
    "    except ValueTooLargeError:\n",
    "        print(\"This value is too large, try again!\")\n",
    "        print()\n",
    "\n",
    "print(\"Congratulations! You guessed it correctly.\")"
   ]
  },
  {
   "source": [
    "Poder gestionar las excepciones es realmente útil cuando estamos escribiendo programas que trabajaran con directorios y archivos:"
   ],
   "cell_type": "markdown",
   "metadata": {}
  }
 ]
}