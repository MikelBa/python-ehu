{
 "cells": [
  {
   "cell_type": "markdown",
   "metadata": {},
   "source": [
    "# Sesión 4 - Classes: programación dirigida a objetos"
   ]
  },
  {
   "cell_type": "markdown",
   "metadata": {},
   "source": [
    "\n",
    "\n",
    "Referencias:\n",
    "\n",
    " - A\n",
    " \n",
    " - B\n",
    " \n",
    " ---"
   ]
  },
  {
   "cell_type": "markdown",
   "metadata": {},
   "source": [
    "**Librerias a importar**"
   ]
  },
  {
   "cell_type": "code",
   "execution_count": 17,
   "metadata": {},
   "outputs": [],
   "source": [
    "import numpy as np"
   ]
  },
  {
   "cell_type": "markdown",
   "metadata": {},
   "source": [
    "## Estructura de clases - primeros ejemplos"
   ]
  },
  {
   "cell_type": "markdown",
   "metadata": {},
   "source": [
    "Las clases se componen de **atributos** (datos) y **métodos** (funciones)"
   ]
  },
  {
   "cell_type": "code",
   "execution_count": 48,
   "metadata": {},
   "outputs": [],
   "source": [
    "class Pokemon(object): \n",
    "    \n",
    "    edicion = 'rojo_fuego'\n",
    "    def __init__(self, nombre_pokemon, tipo_pokemon, tamaño):\n",
    "        \n",
    "        # ATRIBUTOS\n",
    "        # > Nombre Pokemon\n",
    "        self.nombre = nombre_pokemon\n",
    "        # > Tipo Pokemon\n",
    "        self.tipo = tipo_pokemon\n",
    "        # > Tamaño del Pokemon\n",
    "        self.tamaño = tamaño\n",
    "        \n",
    "        # > Nivel\n",
    "        self.nivel = np.random.randint(3,7) \n",
    "        "
   ]
  },
  {
   "cell_type": "markdown",
   "metadata": {},
   "source": [
    "En este ejemplo hay un método, típico en las clases, que es el '\\_\\_init\\_\\_()' (constructor), que inicializa los atributos de la clase cuando una instancia de esta se crea.\n",
    "\n",
    "Este no es necesario, pero se recomienda puesto que las variables fuera del '__init__()' tienen el peligro de ser accedidas antes de ser definidas."
   ]
  },
  {
   "cell_type": "markdown",
   "metadata": {},
   "source": [
    "Creamos dos instancias (objetos) de la clase creada, pasando los argumentos requeridos por el *constructor*, \\_\\_ init\\_\\_()"
   ]
  },
  {
   "cell_type": "code",
   "execution_count": 39,
   "metadata": {},
   "outputs": [],
   "source": [
    "pikachu = Pokemon('Pikachu', 'Eléctrico', 'pequeño')\n",
    "charmander = Pokemon('Charmander', 'Fuego', 'pequeño')"
   ]
  },
  {
   "cell_type": "markdown",
   "metadata": {},
   "source": [
    "Accedemos a los atributos mediante un punto"
   ]
  },
  {
   "cell_type": "markdown",
   "metadata": {},
   "source": [
    "*El tipo*"
   ]
  },
  {
   "cell_type": "code",
   "execution_count": 40,
   "metadata": {},
   "outputs": [
    {
     "name": "stdout",
     "output_type": "stream",
     "text": [
      "Eléctrico\n",
      "Fuego\n"
     ]
    }
   ],
   "source": [
    "print(pikachu.tipo)\n",
    "print(charmander.tipo)"
   ]
  },
  {
   "cell_type": "markdown",
   "metadata": {},
   "source": [
    "*El tamaño*"
   ]
  },
  {
   "cell_type": "code",
   "execution_count": 41,
   "metadata": {},
   "outputs": [
    {
     "name": "stdout",
     "output_type": "stream",
     "text": [
      "pequeño\n",
      "Fuego\n"
     ]
    }
   ],
   "source": [
    "print(pikachu.tamaño)\n",
    "print(charmander.tipo)"
   ]
  },
  {
   "cell_type": "markdown",
   "metadata": {},
   "source": [
    "*El nivel*"
   ]
  },
  {
   "cell_type": "code",
   "execution_count": 47,
   "metadata": {},
   "outputs": [
    {
     "name": "stdout",
     "output_type": "stream",
     "text": [
      "5\n",
      "3\n"
     ]
    }
   ],
   "source": [
    "print(pikachu.nivel)\n",
    "print(charmander.nivel)"
   ]
  },
  {
   "cell_type": "markdown",
   "metadata": {},
   "source": [
    "*El artributo de clase:* edición"
   ]
  },
  {
   "cell_type": "code",
   "execution_count": 315,
   "metadata": {},
   "outputs": [
    {
     "name": "stdout",
     "output_type": "stream",
     "text": [
      "rojo_fuego\n"
     ]
    }
   ],
   "source": [
    "print(pikachu.edicion)"
   ]
  },
  {
   "cell_type": "markdown",
   "metadata": {},
   "source": [
    "Se pueden definir funciones dentro del espacio (namespace) de la clase, estas son consideradas **métodos**"
   ]
  },
  {
   "cell_type": "code",
   "execution_count": 321,
   "metadata": {},
   "outputs": [],
   "source": [
    "class Pokemon(object): \n",
    "    \n",
    "    edicion = 'rojo_fuego'\n",
    "    def __init__(self, nombre_pokemon, tipo_pokemon, tamaño):\n",
    "        \n",
    "        # ATRIBUTOS\n",
    "        # > Nombre Pokemon\n",
    "        self.nombre = nombre_pokemon\n",
    "        # > Tipo Pokemon\n",
    "        self.tipo = tipo_pokemon\n",
    "        # > Tamaño del Pokemon\n",
    "        self.tamaño = tamaño\n",
    "        \n",
    "        # > Nivel\n",
    "        self.nivel = np.random.randint(3,7) \n",
    "        \n",
    "    def subir_nivel(self):\n",
    "        # Subimos nivel si es posible\n",
    "        if self.nivel < 100:\n",
    "            print(f'{self.nombre} ha subido del Nº{self.nivel} al Nº{self.nivel+1}.')\n",
    "            self.nivel += 1\n",
    "        else:\n",
    "            print(f'{self.nombre} no puede subir de nivel.')"
   ]
  },
  {
   "cell_type": "markdown",
   "metadata": {},
   "source": [
    "El **método** 'subir\\_nivel()' no utiliza ninguna variable de entrada, pero hemos introducido la palabra **'self'**:\n",
    "\n",
    "    Ciertamente, todos los métodos, includio el *init*, requieren pasar el objeto en cuestión como primer parámetro. Esto se hace por convención utilizando la palabra *self*.\n"
   ]
  },
  {
   "cell_type": "code",
   "execution_count": 322,
   "metadata": {},
   "outputs": [],
   "source": [
    "pikachu = Pokemon('Pikachu', 'Eléctrico', 'pequeño')\n",
    "charmander = Pokemon('Charmander', 'Fuego', 'pequeño')"
   ]
  },
  {
   "cell_type": "code",
   "execution_count": 324,
   "metadata": {},
   "outputs": [
    {
     "name": "stdout",
     "output_type": "stream",
     "text": [
      "Pikachu ha subido del Nº5 al Nº6.\n"
     ]
    }
   ],
   "source": [
    "pikachu.subir_nivel()"
   ]
  },
  {
   "cell_type": "markdown",
   "metadata": {},
   "source": [
    "**Nota:**\n",
    "\n",
    "    A diferencia de otros lenguajes dirigidos a objetos, Python no tiene concepto de elementos 'privados'. \n",
    "\n",
    "    Todo se comporta como público por defecto, es decir, puede accederse fuera del entorno de la clase. Por ejemplo, hemos obtenido los valores de *tipo*, *nombre*, *tipo* y nivel desde el objeto; al igual que el método 'subir\\_nivel()'. "
   ]
  },
  {
   "cell_type": "markdown",
   "metadata": {},
   "source": [
    "**Métodos mágicos**\n",
    "\n",
    " Hay métodos que se dan en la forma '\\_\\_*nombre\\_de\\_método*\\_\\_'  (como el init). Estos son especiales en Python.\n",
    " Por ejemplo, los operadores de una clase. Estos comparan dos instancias "
   ]
  },
  {
   "cell_type": "code",
   "execution_count": 388,
   "metadata": {},
   "outputs": [],
   "source": [
    "class Pokemon(object): \n",
    "    \n",
    "    edicion = 'rojo_fuego'\n",
    "    def __init__(self, nombre_pokemon, tipo_pokemon, tamaño):\n",
    "        \n",
    "        # ATRIBUTOS\n",
    "        # > Nombre Pokemon\n",
    "        self.nombre = nombre_pokemon\n",
    "        # > Tipo Pokemon\n",
    "        self.tipo = tipo_pokemon\n",
    "        # > Tamaño del Pokemon\n",
    "        self.tamaño = tamaño\n",
    "        \n",
    "        # > Nivel\n",
    "        self.nivel = np.random.randint(3,7) \n",
    "        \n",
    "    def subir_nivel(self):\n",
    "        # Subimos nivel si es posible\n",
    "        if self.nivel < 100:\n",
    "            print(f'{self.nombre} ha subido del Nº{self.nivel} al Nº{self.nivel+1}.')\n",
    "            self.nivel += 1\n",
    "        else:\n",
    "            print(f'{self.nombre} no puede subir de nivel.')\n",
    "    \n",
    "    # Incluimos OPERADORES que usen el atributo 'nivel' como referencia\n",
    "    def __gt__(self, other):\n",
    "        return self.nivel > other.nivel \n",
    "    def __lt__(self, other):\n",
    "        return self.nivel < other.nivel\n",
    "    def __ge__(self, other):\n",
    "        return self.nivel >= other.nivel\n",
    "    def __le__(self, other):\n",
    "        return self.nivel <= other.nivel # Recordad que el return no requiere de paréntesis\n",
    "    \n",
    "    # Incluimos un 'método mágico' de imprimir\n",
    "    def __str__(self):\n",
    "        # Imprimimos atributos\n",
    "        return(f'{self.nombre} (Nº_{self.nivel} | {self.tipo} | {self.tamaño})')"
   ]
  },
  {
   "cell_type": "markdown",
   "metadata": {},
   "source": [
    "Creamos las instancias de los Pokemon"
   ]
  },
  {
   "cell_type": "code",
   "execution_count": 383,
   "metadata": {},
   "outputs": [],
   "source": [
    "pikachu = Pokemon('Pikachu', 'Eléctrico', 'pequeño')\n",
    "charmander = Pokemon('Charmander', 'Fuego', 'pequeño')"
   ]
  },
  {
   "cell_type": "code",
   "execution_count": 385,
   "metadata": {},
   "outputs": [
    {
     "name": "stdout",
     "output_type": "stream",
     "text": [
      "5\n",
      "6\n"
     ]
    }
   ],
   "source": [
    "print(pikachu.nivel)\n",
    "print(charmander.nivel)"
   ]
  },
  {
   "cell_type": "markdown",
   "metadata": {},
   "source": [
    "Comparamos los Pokemon, es decir, su nivel"
   ]
  },
  {
   "cell_type": "code",
   "execution_count": 386,
   "metadata": {},
   "outputs": [
    {
     "data": {
      "text/plain": [
       "False"
      ]
     },
     "execution_count": 386,
     "metadata": {},
     "output_type": "execute_result"
    }
   ],
   "source": [
    "pikachu >= charmander"
   ]
  },
  {
   "cell_type": "markdown",
   "metadata": {},
   "source": [
    "Imprimimos un Pokemon, es decir su nombre y atributos"
   ]
  },
  {
   "cell_type": "code",
   "execution_count": 389,
   "metadata": {},
   "outputs": [
    {
     "name": "stdout",
     "output_type": "stream",
     "text": [
      "Pikachu (Nº_5 | Eléctrico | pequeño)\n"
     ]
    }
   ],
   "source": [
    "print(pikachu)"
   ]
  },
  {
   "cell_type": "markdown",
   "metadata": {},
   "source": [
    "**dir(), hasattr()**"
   ]
  },
  {
   "cell_type": "code",
   "execution_count": 402,
   "metadata": {},
   "outputs": [
    {
     "data": {
      "text/plain": [
       "True"
      ]
     },
     "execution_count": 402,
     "metadata": {},
     "output_type": "execute_result"
    }
   ],
   "source": [
    "pikachu.nuevo_atributo = 'podemos_añadirlo'\n",
    "\n",
    "hasattr(pikachu, 'nuevo_atributo')"
   ]
  },
  {
   "cell_type": "markdown",
   "metadata": {},
   "source": [
    "## **Bounded method, [Class method, static methods](https://stackoverflow.com/questions/12179271/meaning-of-classmethod-and-staticmethod-for-beginner)**"
   ]
  },
  {
   "cell_type": "code",
   "execution_count": null,
   "metadata": {},
   "outputs": [],
   "source": []
  },
  {
   "cell_type": "markdown",
   "metadata": {},
   "source": [
    "## Inheritance (Basic & multiple)\n",
    "\n",
    "Monkey patching"
   ]
  },
  {
   "cell_type": "markdown",
   "metadata": {},
   "source": [
    "## Properties"
   ]
  },
  {
   "cell_type": "code",
   "execution_count": 403,
   "metadata": {},
   "outputs": [
    {
     "ename": "SyntaxError",
     "evalue": "invalid syntax (<ipython-input-403-ef798a623fd6>, line 1)",
     "output_type": "error",
     "traceback": [
      "\u001b[1;36m  File \u001b[1;32m\"<ipython-input-403-ef798a623fd6>\"\u001b[1;36m, line \u001b[1;32m1\u001b[0m\n\u001b[1;33m    RECAP slides\u001b[0m\n\u001b[1;37m               ^\u001b[0m\n\u001b[1;31mSyntaxError\u001b[0m\u001b[1;31m:\u001b[0m invalid syntax\n"
     ]
    }
   ],
   "source": [
    "RECAP slides"
   ]
  }
 ],
 "metadata": {
  "kernelspec": {
   "display_name": "Python 3",
   "language": "python",
   "name": "python3"
  },
  "language_info": {
   "codemirror_mode": {
    "name": "ipython",
    "version": 3
   },
   "file_extension": ".py",
   "mimetype": "text/x-python",
   "name": "python",
   "nbconvert_exporter": "python",
   "pygments_lexer": "ipython3",
   "version": "3.7.4"
  }
 },
 "nbformat": 4,
 "nbformat_minor": 2
}
